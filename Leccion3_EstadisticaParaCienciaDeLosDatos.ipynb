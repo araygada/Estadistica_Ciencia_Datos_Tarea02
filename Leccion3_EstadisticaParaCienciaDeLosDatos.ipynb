{
 "cells": [
  {
   "cell_type": "markdown",
   "metadata": {
    "colab_type": "text",
    "id": "sPD8sqQXo3_P"
   },
   "source": [
    "# Estadística para Ciencia de los Datos - Lección 3\n",
    "\n",
    "Autor: Saúl Calderón, Juan Esquivel, Jorge Castro"
   ]
  },
  {
   "cell_type": "markdown",
   "metadata": {
    "colab_type": "text",
    "id": "itmb_RGGjrvD"
   },
   "source": [
    "## El teorema del límite central\n",
    "\n",
    "Ya anteriormente definimos $\\overline{x}$ como la **media estadística\n",
    "o muestral** de un conjunto $X$ de $n$ observaciones,\n",
    "con $X=\\left\\{ x_{1},x_{2},\\ldots,x_{n}\\right\\} $, con lo que entonces\n",
    "$\\overline{x}=\\frac{x_{1}+x_{2}+\\ldots+x_{n}}{n}$.\n",
    "\n",
    "Si obtenemos, por ejemplo, $r=100000$\n",
    "muestras, y calculamos la media estadística de cada muestra, tendríamos:\n",
    "\n",
    "\\begin{equation}\n",
    "X_{1},X_{2},\\ldots X_{r}\n",
    "\\end{equation}\n",
    "\n",
    "\\begin{equation}\n",
    "\\overline{x}_{1},\\overline{x}_{2},\\ldots\\overline{x}_{r},\n",
    "\\end{equation}\n",
    "\n",
    "lo cual nos permite estudiar la distribución muestral de la media muestral\n",
    "$\\overline{x}$, que resuta de mucha utilidad para conocer que tan\n",
    "cerca tiende a estar una media estadística $\\overline{x}_{j}$ de la media de\n",
    "la población $\\mu$. Esto nos lleva a la pregunta: ¿Cuál es el valor\n",
    "esperado de las medias estadísticas?\n",
    "\n",
    "\n",
    "El teorema del límite central establece que las **medias de las muestras**  $X_{1},X_{2},\\ldots,X_{r}$, dadas por $\\overline{x}_{1},\\overline{x}_{2},\\ldots\\overline{x}_{r}$, **siguen una distribución normal**, con media $\\mu_{\\overline{x}}=\\mu$, y varianza $\\sigma_{\\overline{x}}^{2}=\\frac{\\sigma^{2}}{n}$, a medida que la cantidad de observaciones por muestra n $\\rightarrow\\infty$ (puede ver la demostración [aquí](https://newonlinecourses.science.psu.edu/stat414/node/174/) ). Esto se cumple independientemente de la distribución subyacente de las muestras. Como recordamos, la distribución Gaussiana se ilustra en la siguiente figura.\n",
    "\n",
    "![](https://drive.google.com/uc?export=view&id=1TsDcWkDEitOmtpDYY81IZ0P_K1eqluOP)\n",
    "\n",
    "De la figura anterior podemos extraer que, para una distribución Gaussiana:\n",
    "\n",
    "\\begin{aligned}p\\left\\{ \\mu-1\\sigma\\leq\\overline{x}\\leq\\mu+1\\sigma\\right\\}  & \\approx0.6827\\\\\n",
    "p\\left\\{ \\mu-2\\sigma\\leq\\overline{x}\\leq\\mu+2\\sigma\\right\\}  & \\approx0.9545\\\\\n",
    "p\\left\\{ \\mu-3\\sigma\\leq\\overline{x}\\leq\\mu+3\\sigma\\right\\}  & \\approx0.9973\n",
    "\\end{aligned}\n",
    "\n",
    "Entonces para la media muestral $\\overline{x}$ tenemos que:\n",
    "\n",
    "\\begin{equation}\n",
    "p\\left(\\overline{x}\\right)=\\mathcal{N}\\left(\\overline{x}|\\mu_{\\overline{x}},\\sigma_{\\overline{x}}\\right)\n",
    "\\end{equation}\n",
    "\n",
    "Para facilitar la manipulación de esta función de densidad de probabilidad vamos a normalizarla, haciéndola de media cero y desviación estándar uno:\n",
    "\n",
    "\\begin{equation}\n",
    "p\\left(z\\right)=\\mathcal{N}\\left(z|\\mu_z=0,\\sigma_z=1\\right)\n",
    "\\end{equation}\n",
    "\n",
    "a tal proceso para una observación de $\\overline{x}$ se le conoce como **estandarización**:\n",
    "\n",
    "\\begin{equation}\n",
    "z=\\frac{\\overline{x}-\\mu_{\\overline{x}}}{\\sigma_\\overline{x}}\n",
    "\\end{equation}\n",
    "\n",
    "La estandarización permite analizar la distribución en términos de una función de densidad con valores conocidos $\\mathcal{N}\\left(z|\\mu_z=0,\\sigma_z=1\\right)$.\n",
    "\n",
    "En la siguiente figura se observa la distribución muestral de la media muestral de una variable aleatoria con función de densidad exponencial: \n",
    "\n",
    "\\begin{equation}\n",
    "p\\left(x|\\lambda\\right)=\\begin{cases}\n",
    "\\lambda e^{-\\lambda x} & x\\geq0\\\\\n",
    "0 & x<0\n",
    "\\end{cases}\n",
    "\\end{equation}\n",
    "\n",
    "para el caso en el cual el tamaño de muestra es igual 1,3,10 y 30.\n",
    "\n",
    "![](https://drive.google.com/uc?export=view&id=1tP25SOQ6dVZ6CdCDQ41prt2jXAfmPSkd)\n",
    "\n",
    "Se observa que al escoger un tamaño de muestra $n$ mayor para analizar la distribución de la media muestral $\\overline{x}$, con r=10000 en este caso, la función de densidad $p\\left(\\overline{x}\\right)$ se acerca a una normal. Con $n=1$, naturalmente la distribución será la original, pues estamos tomando la media muestral de un conjunto de n=1 datos, lo cual coincide con simplemente tomar un valor de la distribución.\n",
    "\n",
    "\n",
    "\n",
    "El teorema del límite central es de suma importancia, pues permite tomar supuestos normales para la media muestral, de fenómenos con distribuciones que incluso no son normales. Aunque el teorema del límite central funciona bien para muestras pequeñas (n=4,5,6) en la mayoría de los casos (especialmente cuando la población es continua, unimodal y simétrica), habrán situaciones en las que se requeriran muestras más grandes dependiendo de la forma de la población. En muchos casos de interés práctico si $n \\geq 30$, la aproximación de la distribución normal será satisfactoria independientemente de la forma de la población."
   ]
  },
  {
   "cell_type": "code",
   "execution_count": 1,
   "metadata": {
    "colab": {
     "base_uri": "https://localhost:8080/",
     "height": 265
    },
    "colab_type": "code",
    "id": "DjrZlfz-CYvv",
    "outputId": "2e63a4e6-2692-49e8-8ec0-c2b0233b808b"
   },
   "outputs": [
    {
     "data": {
      "image/png": "[encoded data removed]",
      "text/plain": [
       "<Figure size 432x288 with 1 Axes>"
      ]
     },
     "metadata": {
      "needs_background": "light"
     },
     "output_type": "display_data"
    }
   ],
   "source": [
    "#Experimentos sobre el Teorema del Límite Central\n",
    "\n",
    "import matplotlib.pyplot as plt\n",
    "from scipy.stats import norm\n",
    "import numpy as np\n",
    "import random\n",
    "\n",
    "#EJEMPLO: Lanzamiento de un dado de 6 (v.a. discreta con dist. uniforme)\n",
    "\n",
    "#Parámetros de la población\n",
    "pop_mean = 3.5 #np.mean([1,2,3,4,5,6])\n",
    "pop_sigma = 1.7078 #np.std([1,2,3,4,5,6])\n",
    "\n",
    "#Parámetros del experimento\n",
    "sample_size = 4\n",
    "number_of_samples = 100000\n",
    "sample_mean_vec = []\n",
    "\n",
    "#Cálculo de la media de las muestras-------------------- \n",
    "for i in range(number_of_samples):\n",
    "  uniform_sample = np.random.randint(1,6+1,sample_size)\n",
    "  sample_mean_vec.append(np.mean(uniform_sample))\n",
    "#-------------------------------------------------------\n",
    "\n",
    "#Creación del histograma\n",
    "plt.hist(sample_mean_vec,bins=np.linspace(1,6,5*sample_size+2), density=True)\n",
    "\n",
    "#Distribución de las medias muestrales según el TLC\n",
    "sigma = pop_sigma / np.sqrt(sample_size)\n",
    "x = np.linspace(1, 6, 100)\n",
    "plt.plot(x, norm.pdf(x, pop_mean, sigma))\n",
    "\n",
    "\n",
    "plt.show()"
   ]
  },
  {
   "cell_type": "code",
   "execution_count": 2,
   "metadata": {
    "colab": {
     "base_uri": "https://localhost:8080/",
     "height": 51
    },
    "colab_type": "code",
    "id": "LTdRDBdpU-tV",
    "outputId": "ef794a8f-3448-4507-f9ed-660be538ee3f"
   },
   "outputs": [
    {
     "name": "stdout",
     "output_type": "stream",
     "text": [
      "1.707825127659933\n",
      "3.5\n"
     ]
    }
   ],
   "source": [
    "import numpy as np\n",
    "print(np.std([1,2,3,4,5,6]))\n",
    "print(np.mean([1,2,3,4,5,6]))"
   ]
  },
  {
   "cell_type": "markdown",
   "metadata": {
    "colab_type": "text",
    "id": "aOOn_S_Vj1N_"
   },
   "source": [
    "### Ejemplo\n",
    "\n",
    "Suponga que $X_i$ modela el tiempo de espera (en minutos) de un cliente $i$ a ser atendido en una sucursal. El asistente administrativo afirma que el promedio de tiempo de espera de la población entera de clientes es $\\mu=2$ minutos. El gerente del lugar no cree en la afirmación de su asistente y por lo tanto, obeserva una muestra aleatoria de 36 clientes. El tiempo de espera promedio para esos 36 clientes es de 3.2 minutos ¿Debería el gerente rechazar la afirmación de su asistente (...y despedirlo)?\n",
    "\n",
    "### Solución:\n",
    "\n",
    "La función de distribución exponencial se suele usar para modelar el tiempo de espera de ocurrencia de un evento. Por lo tanto, es razonable suponer que $X_i$ es una variable aleatoria exponencial. Ahora, según la afirmación del asistente administrativo, la media de $X_i$ es:\n",
    "\n",
    "$\\mu = \\theta =2$\n",
    "\n",
    "De acuerdo, a las propiedades de la distribución exponencial, la varianza de $X_i$ es:\n",
    "\n",
    "$\\sigma^2=\\theta^2=2^2=4$\n",
    "\n",
    "\n",
    "Ahora, necesitamos saber lo siguiente: si la media $\\mu$ realmente es 2 tal y como el asistente administrativo afirma, ¿Cuál es la probabilidad de que el gerente haya obtenido una media muestral 3.2 minutos o más?\n",
    "De acuerdo con el teorema del límite central, la media muestral $\\overline{x}$  presenta una distribución aproximadamente normal con media:\n",
    "\n",
    "$\\mu_{\\overline{x}}=2$\n",
    "\n",
    "y varianza:\n",
    "\n",
    "$\\sigma_{\\overline{x}}^2 = \\sigma^2/n=4/36=1/9$\n",
    "\n",
    "Podemos entonces, calcular el valor $Z$ para nuestro punto de interés en la distribución:\n",
    "\n",
    "$Z=\\frac{3.2-2}{\\sqrt{1/9}}=3.6$\n",
    "\n",
    "y obtener la probabilidad $p(Z>3.6)$ usando la función de distribución acumulativa Gaussiana"
   ]
  },
  {
   "cell_type": "code",
   "execution_count": 3,
   "metadata": {
    "colab": {
     "base_uri": "https://localhost:8080/",
     "height": 34
    },
    "colab_type": "code",
    "id": "cqbDqNgnCokx",
    "outputId": "706a49be-1aba-4206-c213-28d155538e01"
   },
   "outputs": [
    {
     "data": {
      "text/plain": [
       "0.00015910859015755285"
      ]
     },
     "execution_count": 3,
     "metadata": {},
     "output_type": "execute_result"
    }
   ],
   "source": [
    "import scipy.stats as st\n",
    "1-st.norm.cdf(3.6)"
   ]
  },
  {
   "cell_type": "markdown",
   "metadata": {
    "colab_type": "text",
    "id": "5akgblIVFXcl"
   },
   "source": [
    "Como $p(Z>3.6)=0.00016$ tan solo hay un $0.016$% de probabilidad de obtener una media muestral tan larga. Por lo tanto, sería razonable para el gerente rechazar la afirmación de su asistente de que la media $\\mu=2$ y concluir que la media de la población es mayor a ese número.  Este es el tipo de ejemplos que veremos más adelante en las lecciones sobre prueba de hipótesis. En general, en el proceso de prueba de hipótesis, alguien realiza una afirmación (el asistente en este caso) y alguien recolecta y usa datos (el gerente en este caso) para tomar una decisión sobre la validez de la afirmación. En este caso en particular, usamos el TLC para tomar una decisión sobre la afirmación del asistente.\n",
    "\n"
   ]
  },
  {
   "cell_type": "markdown",
   "metadata": {
    "colab_type": "text",
    "id": "UF9BeyonIoM4"
   },
   "source": [
    "### Ejercicio\n",
    "\n",
    "La persona promedio consume 2 litros de agua cuando se encuentra al aire libre (con una desviación estándar de 0.7 litros). Suponga que usted está organizando un campamento a Monteverde para 49 compañeros de trabajo y usted, y se planea llevar 110 litros de agua. ¿Cuál es la probabilidad de quedarse sin agua?"
   ]
  },
  {
   "cell_type": "markdown",
   "metadata": {
    "colab_type": "text",
    "id": "ygj5TvQ-kEvB"
   },
   "source": [
    "## Invervalos de confianza para los parámetros de una distribución\n",
    "\n",
    "\n",
    "Se pueden distinguir principalmente dos tipos de métodos de inferencia estadística, usados respectivamente para:\n",
    "\n",
    "1. **Estimación** de parámetros poblacionales\n",
    "\n",
    "2. **Prueba de hipótesis** sobre tales parámetros\n",
    "\n",
    "En módulos anteriores hemos estudiado métodos de inferencia estadística para la estimación del valor de parámetros poblacionales usando **estimadores puntuales** (un único número que es nuestro mejor aproximado del parámetro poblacional de interés). \n",
    "En esta sección, también estudiaremos métodos de inferencia estadística para la estimación de parámetros poblacionales, pero usando **intervalos de confianza**. Un intervalo de confianza es un rango de números, el cual con cierto grado de probabilidad o de \"confianza\", va a contener el valor del parámetro poblacional de interés. La probabilidad de que el intervalo realmente contenga el valor del parámetro poblacional es lo que llamamos **nivel de confianza** y al complemento del nivel de confianza le llamamos **error**. A continuación veremos un ejemplo de aplicación de intervalos de confianza.\n",
    "\n",
    "\n"
   ]
  },
  {
   "cell_type": "markdown",
   "metadata": {
    "colab_type": "text",
    "id": "aCSRLecXkLfM"
   },
   "source": [
    "### Ejemplo\n",
    "\n",
    "Imagine que su equipo desarrolló un algoritmo de aprendizaje automático, el cual reportó una precisión media muestral $\\overline{x}_a$ para una muestra $A=\\left\\{ a_{1},a_{2},\\ldots,a_{n}\\right\\} $ de $n$ datos de validación.\n",
    "\n",
    "Dado que el sistema se utilizará en producción con un nuevo conjunto de datos de validación  $A'$, su equipo necesita estimar qué tan **cercana\n",
    "está la media muestral** $\\overline{x}_{a}$ **de la media de\n",
    "la población** $\\mu$ (la media real de la precisión de su algoritmo).\n",
    "Esto se puede expresar como la necesidad de estimar un intervalo en el cual sepamos que la media se encontrará con cierto **nivel de confianza** $1-\\alpha$:\n",
    "\n",
    "\\begin{equation}\n",
    "p\\left\\{ l\\leq\\mu\\leq u\\right\\} =1-\\alpha\n",
    "\\end{equation}\n",
    "\n",
    "donde $l$ corresponde a la cota inferior del intervalo, $u$ corresponde a la cota superior del intervalo y $\\alpha$ es el error. El intervalo de confianza se puede escribir como un margen de error alrededor de la media muestral $\\overline{x} \\pm\\rho$, o bien como un intervalo $[\\overline{x}-\\rho,\\overline{x}+\\rho]$. A continuación veremos como construir intervalos de confianza para la media poblacional y como interpretarlos."
   ]
  },
  {
   "cell_type": "markdown",
   "metadata": {
    "colab_type": "text",
    "id": "10nEqwVOkg9a"
   },
   "source": [
    "### Intervalos de confianza para $\\mu$, con $\\sigma$ conocido\n",
    "Usando el teorema del límite central, nos interesa encontrar el intervalo en el cual la media poblacional $\\mu$ esté contenida\n",
    "con cierto error, por ejemplo $\\alpha=0.05.$ Esto significa que el nivel de confianza será de $1-\\alpha=0.95$. En caso de conocer el valor $\\sigma$ para la población, se puede calcular el intervalo de confianza usando la siguiente fórmula: \n",
    "\n",
    "\\begin{equation}\n",
    "\\overline{x}\\pm\\sigma_{\\overline{x}}\\, z_{\\alpha/2},\n",
    "\\end{equation}\n",
    "\n",
    "donde $z_{\\alpha/2}$ corresponde al punto en la distribución $Z$ en el que la función de distribución probabilidad acumulativa es igual a  $(1 - \\alpha/2)$, o bien, al valor absoluto del punto en la distribución $Z$ en el que la función de distribución probabilidad acumulativa es igual a  $(\\alpha/2)$.\n",
    "\n",
    "![](https://drive.google.com/uc?export=view&id=1kRbHAJIgGjJE0ziu4hxlh8SxWglKMvKc)\n",
    "\n",
    "Dado que conocemos la desviación estándar de la población $\\sigma$, podemos sustituir $\\sigma_{\\overline{x}}=\\sigma/\\sqrt n$, y obtener:\n",
    "\n",
    "\\begin{equation}\n",
    "\\overline{x}\\pm\\frac{\\sigma\\, z_{\\alpha/2}}{\\sqrt{n}}\n",
    "\\end{equation}\n",
    "\n",
    "Para el caso específico de $\\alpha=0.05$, tendríamos que $z_{0.025}=1.96$ y por lo tanto:\n",
    "\n",
    "\\begin{equation}\n",
    "\\overline{x}\\pm\\frac{1.96\\sigma}{\\sqrt{n}}\n",
    "\\end{equation}\n",
    "\n",
    "Observe entonces como el intervalo de confianza $1-\\alpha$ ha sido definido en términos de de la desviación estándar de la población $\\sigma$ y el tamaño de la muestra $n$. Sin embargo, contar con la información de la desviación estándar de la población es poco usual y no es posible en  la mayoría de casos\n",
    "prácticos. Por esta razón en la siguiente sección veremos como calcular el intervalo de confianza cuando desconocemos $\\sigma$."
   ]
  },
  {
   "cell_type": "markdown",
   "metadata": {
    "colab_type": "text",
    "id": "7pqvj5xGksLr"
   },
   "source": [
    "### Intervalos de confianza para $\\mu$, con $\\sigma$ desconocido: la distribución $t$ student\n",
    "\n",
    "Cuando la desviación estándar de la población $\\sigma$ es desconocida,\n",
    "es necesario tomar una suposición sobre de la distribución de $X$. Una suposición frecuentemente razonable es asumir la distribución como **normal**.\n",
    "De no ser adecuada tal suposición, es necesario utilizar métodos no parámetricos, los cuales se estudiarán más adelante.\n",
    "\n",
    "Siguiendo adelante con la suposición de la normalidad de la variable\n",
    "aleatoria $X$, con un $\\overline{x}$ como la media muestral y $s$ como la desviación estándar muestral de un conjunto $X_{n}$ de $n$\n",
    "observaciones, con $X=\\left\\{ x_{1},x_{2},\\ldots,x_{n}\\right\\}$, una forma, un tanto obvia, de calcular el intervalo de confianza sería reemplazando $\\sigma$ por la desviación estándar muestral $s$:\n",
    "\n",
    "\\begin{equation}\n",
    "\\overline{x}\\pm\\frac{s\\, z_{\\alpha/2}}{\\sqrt{n}}\n",
    "\\end{equation}\n",
    "\n",
    "Pero, ¿Cuál es el efecto de cambiar $\\sigma$ por $s$? Si $n\\rightarrow\\infty$,\n",
    "el efecto será evidentemente nulo, sin embargo, en ingeniería y ciencias de los datos, el tamaño de la muestra $n$ es usualmente pequeño (Al menos en comparación con el tamaño de la población). Por esta razón,  al tener que estimar la desviación estándar de la población agregamos un error extra a nuestro cálculo, el cual compensamos usando una distribución distinta, la cual puede *ajustarse* mejor para cada tamaño de muestra $n$. La distribución *t* o *t student* define el parámetro $k=n-1$, el cual a medida que $k$ se hace más pequeño, sube las probabilidades de\n",
    "los valores en los extremos (colas más gruesas), reflejando la mayor *imprecisión* que se tiene al usar\n",
    "un tamaño de muestra más pequeño. Complementariamente, a medida\n",
    "que $k\\rightarrow\\infty$, la distribución *t student* tiende\n",
    "a una distribución normal con media cero y desviación estándar 1, como lo muestra la siguiente figura:\n",
    "\n",
    "![](https://drive.google.com/uc?export=view&id=1DBSSlJzf70u2WE_E5SODN0F_W8KUVZYf)\n",
    "\n",
    "\n",
    "La función de densidad de probabilidad de la distribución *t\n",
    "student* está dada por:\n",
    "\n",
    "\\begin{equation}\n",
    "p\\left(t\\right)=\\frac{\\Gamma\\left(\\frac{k+1}{2}\\right)}{\\sqrt{k\\pi}\\Gamma\\left(\\frac{k}{2}\\right)}\\left(1+\\frac{t^{2}}{k}\\right)^{-\\frac{k+1}{2}}\n",
    "\\end{equation}\n",
    "\n",
    "donde se define la función gamma como $\\Gamma\\left(n\\right)=\\left(n-1\\right)!$. De esta forma, el valor de $t$ a evaluar dependerá del tamaño de\n",
    "la muestra $k=n-1$. Por lo tanto, calculamos el intervalo de confianza como:\n",
    "\n",
    "\\begin{equation}\n",
    "\\overline{x}\\pm\\frac{s\\, t_{k,\\alpha/2}}{\\sqrt{n}}\n",
    "\\end{equation}\n",
    "\n",
    "\n",
    "donde $-t_{k,\\alpha/2}$  corresponde al punto en la distribución $t$ con $k$ grados de libertad, en el que la función de distribución probabilidad acumulativa es igual a  $\\alpha/2$. También podemos expresar el intervalo de confianza como:\n",
    "\n",
    "\n",
    "\\begin{equation}\n",
    "\\Rightarrow p\\left\\{ \\overline{x}-\\frac{s\\,t_{k,\\alpha/2}}{\\sqrt{n}}\\leq\\mu\\leq\\overline{x}+\\frac{s\\,t_{k,\\alpha/2}}{\\sqrt{n}}\\right\\} =1-\\alpha\n",
    "\\end{equation}"
   ]
  },
  {
   "cell_type": "code",
   "execution_count": 4,
   "metadata": {
    "colab": {
     "base_uri": "https://localhost:8080/",
     "height": 102
    },
    "colab_type": "code",
    "id": "AqeEHCudHxa4",
    "outputId": "47e6d58d-45bd-42ff-db41-a0bd28bc2688"
   },
   "outputs": [
    {
     "name": "stdout",
     "output_type": "stream",
     "text": [
      "1.959963984540054\n",
      "-1.9599639845400545\n",
      "2.045229642132703\n",
      "-2.0452296421327034\n"
     ]
    }
   ],
   "source": [
    "import scipy.stats as st\n",
    "\n",
    "#Standard Normal distribution-------------------------\n",
    "\n",
    "#Percent Point Function (Inverse of CDF)\n",
    "print(st.norm.ppf(.975))\n",
    "print(st.norm.ppf(.025))\n",
    "\n",
    "#Cumulative distribution function\n",
    "#print(st.norm.cdf(1.9599))\n",
    "\n",
    "#-----------------------------------------------------\n",
    "\n",
    "\n",
    "\n",
    "#T-student distribution-------------------------------\n",
    "\n",
    "print(st.t.ppf(.975,30-1))\n",
    "print(st.t.ppf(.025,30-1))\n",
    "#print(st.t.cdf(2.326,100000))\n",
    "\n",
    "#-----------------------------------------------------"
   ]
  },
  {
   "cell_type": "markdown",
   "metadata": {
    "colab_type": "text",
    "id": "tQZY44LrERBt"
   },
   "source": [
    "Es importante resaltar que para el cálculo correcto de los intervalos de confianza, las muestras deben de ser aleatorias."
   ]
  },
  {
   "cell_type": "markdown",
   "metadata": {
    "colab_type": "text",
    "id": "1vBdf0X1k7IO"
   },
   "source": [
    "# Pruebas de normalidad\n",
    "Muchos algoritmos de aprendizaje automático y análisis estadísticos\n",
    "como el ANOVA, suponen una distribución Gaussiana de los datos. Es\n",
    "por ello que esta suposición debe ser verificada antes de utilizar\n",
    "este tipo de técnicas, de lo contrario habrá que utilizar otras basadas\n",
    "en métodos no paramétricos. Existen muchos tipos de pruebas de normalidad,\n",
    "que van desde verificar gráfica y cualitativamente la similitud de una distribución empírica con el modelo normal basado en histogramas\n",
    "o *box-plots*, hasta técnicas más formales como por ejemplo el\n",
    "método de Kolgomorov-Smirnov, planteado por matemáticos soviéticos\n",
    "en los años 30's, y su posterior mejora, la prueba de **Lilliefors**\n",
    "y otras técnicas más modernas y más certeras para muestras de distintos\n",
    "tamaños, como el método de la inclinación-kurtosis (conocida también\n",
    "como prueba de Jarque-Bera), o las pruebas de **Shapiro-Wilk**,\n",
    "o de **Anderson-Darling**."
   ]
  },
  {
   "cell_type": "markdown",
   "metadata": {
    "colab_type": "text",
    "id": "5sbm7J9vlER8"
   },
   "source": [
    "## Prueba de normalidad de Kolmogorov-Smirnov\n",
    "\n",
    "La prueba de Kolmogorov-Smirnov (Prueba K-S) compara los datos de una muestra respecto a una distribución conocida y nos permite saber si los datos provienen de esa distribución. La aplicación más usual de esta prueba es respecto a la distribución normal, pues muchos métodos estadísticos requieren que los datos provengan de una distribución normal. Sin embargo, la prueba se puede aplicar para otras distribuciones.\n",
    "\n",
    "Las hipótesis para esta prueba son las siguientes:\n",
    "\n",
    "- Hipótesis nula ($H_0$): los datos provienen de la distribución especificada.\n",
    "\n",
    "- Hipótesis alternativa ($H_1$): al menos un valor no concuerda con la distribución especificada.\n",
    "\n",
    "El primer paso para realizar la prueba consiste en obtener una función de distribución de probabilidad acumulativa empírica $F_e\\left(x\\right)$ a partir de los datos de una muestra $X=\\left\\{x_1,x_2,...,x_n \\right\\}$. El cálculo de $F_e\\left(x\\right)$ se haría de la siguiente forma:\n",
    "\n",
    "\\begin{equation}\n",
    "F_e\\left(x\\right)=\\frac{1}{n}\\sum_{i=1}^{n}I\\left(x_i\\leq x\\right),\n",
    "\\end{equation}\n",
    "\n",
    "donde la función $I$ es la función indicadora o indicatriz, la cual indica si\n",
    "el valor $x_{i}$ es menor o igual a $x$:\n",
    "\n",
    "\\begin{equation}\n",
    "I\\left(x_i\\leq x\\right)=\\begin{cases}\n",
    "1 & \\textrm{si }x_{i}\\leq x\\\\\n",
    "0 & \\textrm{sino}\n",
    "\\end{cases}\n",
    "\\end{equation}\n",
    "\n",
    "Luego se especifica una función de distribución de probabilidad acumulativa ideal $F_i(x)$ que corresponde a la distribución conocida de la cual se quiere saber si los datos provienen.  El cálculo de la distribución ideal $F_i(x)$ **implica que, para el caso de probar la normalidad de un conjunto de datos $X$,\n",
    "es necesario conocer los parámetros** $\\theta=\\left\\{\\mu,\\sigma\\right\\}$\n",
    ", o en su defecto, estimarlos.\n",
    "\n",
    "Una vez que se tienen la función de distribución de probabilidad acumulativa empírica $F_e\\left(x\\right)$ y la función de distribución de probabilidad acumulativa ideal $F_i(x)$, se calcula la distancia entre ambas como: \n",
    "\n",
    "\\begin{equation}\n",
    "D=\\max\\left|F_e(x)-F_i(x)\\right|\n",
    "\\end{equation}\n",
    "\n",
    "De esta forma, el método de Kolgomorov-Smirnov busca la diferencia máxima (distancia vertical) entre las distribuciones de probabilidad acumulativa, como lo ilustra la siguiente figura:\n",
    "\n",
    "![](https://drive.google.com/uc?id=1tWDeuaFVNcWqKASvxPMsLb5AuZPGMg6o)\n",
    "\n",
    "Tomando en cuenta el tamaño de la muestra $n$ y el error $\\alpha$ definido para la prueba, se puede comparar el valor obtenido $D$ con el valor  crítico correspondiente de la tabla de la distribución de Kolgomorov:\n",
    "\n",
    "![](https://drive.google.com/uc?export=view&id=1y9DaNlsj1f6dRmhKjjjlIqtsrIQmONAw)\n",
    "\n",
    "Si $D$ es mayor que el valor crítico, \n",
    "**la hipótesis nula $H_0$ se rechaza**, de lo contrario se acepta (se supone como cierta)."
   ]
  },
  {
   "cell_type": "markdown",
   "metadata": {
    "colab_type": "text",
    "id": "BszZIuLdnX9U"
   },
   "source": [
    "## Ejemplo de código\n",
    "El siguiente ejemplo ejecuta una prueba KS para el histograma $\\vec{h}$ de ejemplo presentado."
   ]
  },
  {
   "cell_type": "code",
   "execution_count": 20,
   "metadata": {
    "colab": {
     "base_uri": "https://localhost:8080/",
     "height": 136
    },
    "colab_type": "code",
    "id": "AcaU1yzvnTF0",
    "outputId": "95ff084c-0244-4240-caff-fc2edf967361"
   },
   "outputs": [
    {
     "name": "stdout",
     "output_type": "stream",
     "text": [
      "tensor(0.0429)\n",
      "tensor(1000.)\n",
      "tensor([0.0027, 0.0164, 0.0679, 0.1986, 0.4198, 0.6708, 0.8614, 0.9583, 0.9912,\n",
      "        0.9987])\n",
      "tensor([0.0080, 0.0330, 0.1210, 0.2930, 0.5360, 0.7880, 0.9320, 0.9810, 0.9940,\n",
      "        1.0000])\n",
      "tensor(0.1172)\n",
      "0.9999999990134123\n",
      "1.7473784071492072e-90\n"
     ]
    }
   ],
   "source": [
    "from numbers import Number\n",
    "\n",
    "import torch\n",
    "from torch.distributions import Exponential\n",
    "from torch.distributions import Uniform\n",
    "from torch.distributions import Normal\n",
    "from torch.distributions.exp_family import ExponentialFamily\n",
    "from torch.distributions.utils import broadcast_all\n",
    "import numpy as np\n",
    "import matplotlib.pyplot as plt\n",
    "\n",
    "#Ocurrences\n",
    "histogram = torch.tensor([8.0, 25, 88, 172, 243, 252, 144, 49, 13, 6])\n",
    "#values\n",
    "histogramX = torch.tensor([50.0,\t 150,\t 250,\t 350,\t 450,\t 550,\t 650,\t 750,\t 850, 950])\n",
    "\n",
    "#number of observations\n",
    "n = histogram.sum()\n",
    "histogramNorm = histogram / n        #Norm factor for mean\n",
    "histogramNorm2 = histogram / (n - 1) #Norm factor for std\n",
    "\n",
    "#calculate cumulative sum\n",
    "cdfEmpirical = torch.cumsum(histogramNorm, dim = 0)\n",
    "\n",
    "#get sample stats\n",
    "meanHist = (histogramX * histogramNorm).sum()\n",
    "stdHist = torch.sqrt((histogramNorm2 * (histogramX - meanHist) ** 2).sum())\n",
    "\n",
    "#Create ideal CDF\n",
    "normalDensity = Normal(meanHist, stdHist)\n",
    "cdfNormalIdeal = normalDensity.cdf(histogramX) #points used to evaluate cdf\n",
    "\n",
    "#Compare the empirical and ideal distributions\n",
    "difference = torch.abs(cdfNormalIdeal - cdfEmpirical)\n",
    "dn = torch.max(difference)\n",
    "\n",
    "print(1.3581 / np.sqrt(n)) #valor critico\n",
    "print(n)\n",
    "print(cdfNormalIdeal)\n",
    "print(cdfEmpirical)\n",
    "print(dn)\n"
   ]
  },
  {
   "cell_type": "markdown",
   "metadata": {
    "colab_type": "text",
    "id": "QlOHO7JXoYja"
   },
   "source": [
    "El valor $D$ obtenido es probado con una confianza de $1-\\alpha = 0.95$, entonces utilizando la tabla de la distribución Kolgomorov (tabla KS), podemos verificar que $D > D_{n,\\alpha}$ que, para este caso, vemos que $0.1172 > 0.0429$.\n",
    "\n",
    "Esto quiere decir que la hipótesis nula $H_0$ que plantea que el histograma  $\\vec{h}$ ha sido generado de una distribución nomal, se  rechaza. En caso de que el valor $D$ hubiese sido menor se asume como cierta o en otras palabras, no se tendría la suficiente evidencia como para demostrar lo contrario. Para obtener los valores críticos de la tabla KS en Python se puede usar la siguiente función del paquete scipy."
   ]
  },
  {
   "cell_type": "code",
   "execution_count": 6,
   "metadata": {
    "colab": {
     "base_uri": "https://localhost:8080/",
     "height": 34
    },
    "colab_type": "code",
    "id": "p_CORR078WSm",
    "outputId": "751e907f-86ec-4704-aeb8-71c402853e9b"
   },
   "outputs": [
    {
     "name": "stdout",
     "output_type": "stream",
     "text": [
      "0.04277658868221006\n"
     ]
    }
   ],
   "source": [
    "from scipy.stats import ksone\n",
    "print(ksone.ppf(0.975,1000))"
   ]
  },
  {
   "cell_type": "markdown",
   "metadata": {
    "colab_type": "text",
    "id": "px_l1hs7QSD3"
   },
   "source": [
    "Las principales ventajas del método de Kolgomorov son:\n",
    "1. No requiere que los datos provengan de alguna distribución en particular.\n",
    "2. La distancia $D$ es fácil de calcular.\n",
    "3. Funciona con tamaños de muestra pequeños.\n",
    "\n",
    "Las desventajas del método de Kolgomorov incluyen la necesidad de conocer los parámetros de la distribución $\\theta$ a priori, además de la poca sensibilidad en las *colas* de la función de densidad al comparar distribuciones. Otros métodos\n",
    "como la prueba de Lilliefors, basado en la prueba de Kolgomorov, no necesitan conocer los parámetros de la distribución ideal $\\theta$."
   ]
  },
  {
   "cell_type": "code",
   "execution_count": null,
   "metadata": {},
   "outputs": [],
   "source": []
  }
 ],
 "metadata": {
  "colab": {
   "collapsed_sections": [],
   "name": "Leccion3_EstadisticaParaCienciaDeLosDatos.ipynb",
   "provenance": []
  },
  "kernelspec": {
   "display_name": "Python 3 (ipykernel)",
   "language": "python",
   "name": "python3"
  },
  "language_info": {
   "codemirror_mode": {
    "name": "ipython",
    "version": 3
   },
   "file_extension": ".py",
   "mimetype": "text/x-python",
   "name": "python",
   "nbconvert_exporter": "python",
   "pygments_lexer": "ipython3",
   "version": "3.8.8"
  }
 },
 "nbformat": 4,
 "nbformat_minor": 1
}
