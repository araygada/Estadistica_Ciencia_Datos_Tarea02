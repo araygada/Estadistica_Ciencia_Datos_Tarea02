{
 "cells": [
  {
   "cell_type": "markdown",
   "metadata": {
    "id": "jdtaAwa8XzNA"
   },
   "source": [
    "# Estadística para Ciencia de los Datos\n",
    "# Tarea #1\n",
    "### Alumno: José Alberto Raygada Agüero\n"
   ]
  },
  {
   "cell_type": "markdown",
   "metadata": {
    "id": "b7yZKbBswGSC"
   },
   "source": [
    "Realice los siguientes ejercicios y envíe sus respuestas, en un notebook de google colab, a través de TEC Digital a más tardar el domingo 30 de enero a las 10:00 PM. No se aceptarán entregas tardías.\n",
    "\n",
    "Desarrolle todos los ejercicios con el mayor nivel de detalle posible. Se espera que el desarrollo algebraico sea formal. No será válido únicamente dar respuestas en prosa a las preguntas.\n",
    "\n",
    "Para la parte 1 de la tarea es válido entregar las respuestas  como un archivo PDF que sea un escaneo de la solución en papel de los ejercicios. Los estudiantes son responsables por asegurar que el archivo enviado sea legible.\n",
    "\n",
    "Para la parte 2 de la tarea se espera que el código pueda ejecutarse con visualizaciones apropiadas, sino no se asignará puntaje."
   ]
  },
  {
   "cell_type": "markdown",
   "metadata": {
    "id": "5e6Nc6WZTTmc"
   },
   "source": [
    "## Parte 1\n",
    "\n",
    "1.   Una agencia de bienes raíces tiene una base de datos de propiedades vendidas en la cuál rastrearon la cantidad de días que duró en concretarse la venta, además de su precio de venta (ver tabla). Basado en los datos responda los siguientes apartados. Responda todos los puntos utilizando ecuaciones únicamente.\n",
    "\n",
    " * Si $A$ es el evento de vender una casa en más de 90 días, estime la probabilidad de $A$ (5 puntos)\n",
    " * Si $B$ es el evento de vender una casa en menos de 50,000, estime la probablidad de $B$ (5 puntos)\n",
    " * ¿Cuál es la probabilidad de que $A$ y $B$ ocurran juntos? (5 puntos)\n",
    " * Si una casa se define que tiene un precio de menos de \\$50,000, ¿cuál es la probabilidad que tarde 90 o menos días en venderse? (5 puntos)\n",
    " * ¿Se puede considerar que los eventos $A$ y $B$ son independientes? (Demuéstrelo matemáticamente) (10 puntos)\n",
    "  \n",
    "|| Menos de 30 días | De 31 a 90 | Más de 90 | Total\n",
    "|--- | --- | --- | --- |---\n",
    "|**Menos de \\$50,000**|50|40|10|100\n",
    "|**50,000 a 99,999**|20|150|80|250\n",
    "|**100,000 a 149,999**|20|280|100|400\n",
    "|**Más de 150,000**|10|10|30|50\n",
    "|**Total**|100|480|220|800\n",
    "\n",
    "\n",
    "\n",
    "2.   Suponga que se desea analizar la relación entre tres variables aleatorias $X_{1},X_{2}$ y $X_{3}$, para las cuales se han recabado los siguientes arreglos de $N=3$ observaciones:\n",
    " * Calcule la varianza de cada variable aleatoria (muestre todos los pasos) (10 puntos)\n",
    " * Calcule la matriz de correlación de Pearson (muestre todos los pasos) (10 puntos)\n",
    "\n",
    "\\begin{equation}\n",
    "\\begin{array}{c}\n",
    "h_{1}=\\begin{bmatrix}3 & 15 & 21\\end{bmatrix}\\\\\n",
    "h_{2}=\\begin{bmatrix}1 & 5 & 6\\end{bmatrix}\\\\\n",
    "h_{3}=\\begin{bmatrix}13 & 7 & 3\\end{bmatrix}\n",
    "\\end{array}\n",
    "\\end{equation}"
   ]
  },
  {
   "cell_type": "markdown",
   "metadata": {
    "id": "chgbdVm7TbL-"
   },
   "source": [
    "# Parte 2\n",
    "\n",
    "1. Muestreo de estaturas. Los estudiantes deberán programar dos funciones para crear muestras de $N$ personas (observaciones) con una sola variable aleatoria: estatura. Para efectos prácticos, ambas funciones pueden retornar una simple lista con valores numéricos que representan la estatura en centímetros de diferentes personas. Para ambas funciones deberán mostrarse ejemplos de creación de muestras con al menos 100 observaciones y mostrarlas en un histograma. La cantidad de cubetas deberá limitarse a un máximo de 9. Las funciones a programar serán las siguientes:\n",
    "\n",
    "    * **Muestreo Uniforme**. Además de recibir la cantidad de observaciones a generar $N$, recibirá la estatura mínima y máxima  por parámetro. Por ejemplo, si se pide una distribución uniforme entre 150 y 168, las estaturas entre ese rango deberán ser igual de probables de muestrear. (5 puntos)\n",
    "    * **Muestreo Normal**. Además de recibir la cantidad de observaciones a generar $N$, recibirá la media y desviación estándar por parámetro. De esta forma, la función generará $N$ observaciones provenientes de una distribución Gaussiana con la media y desviación estándar recibidas. (5 puntos)\n",
    "  \n",
    "  \n",
    " "
   ]
  },
  {
   "cell_type": "code",
   "execution_count": 1,
   "metadata": {},
   "outputs": [
    {
     "name": "stdout",
     "output_type": "stream",
     "text": [
      "[153 166 150 153 155 159 151 158 164 164 165 155 166 167 161 151 160 154\n",
      " 162 153 157 167 152 152 162 158 167 163 160 151 152 166 167 155 151 158\n",
      " 163 167 162 154 150 153 167 153 154 152 153 165 151 154 155 153 164 155\n",
      " 151 164 157 159 151 157 165 151 151 157 166 152 161 152 153 160 164 159\n",
      " 156 152 159 156 159 153 150 152 165 165 150 156 157 156 157 154 150 167\n",
      " 150 154 155 159 164 162 161 162 151 150]\n"
     ]
    },
    {
     "data": {
      "image/png": "[encoded data removed]",
      "text/plain": [
       "<Figure size 432x288 with 1 Axes>"
      ]
     },
     "metadata": {
      "needs_background": "light"
     },
     "output_type": "display_data"
    }
   ],
   "source": [
    "# Se crea la función para la generación de muestras con distribución uniforme\n",
    "\n",
    "%matplotlib inline \n",
    "import numpy as np\n",
    "import matplotlib.pyplot as plt\n",
    "\n",
    "def muestra_uniforme(lim_inf, lim_sup, s_size: int, n_bins, print_opc: bool):\n",
    "    muestra = np.random.randint(lim_inf,lim_sup, s_size)\n",
    "    resultado = muestra    \n",
    "    #plt.hist(muestra, density=True, bins=9)\n",
    "    if print_opc:\n",
    "        # Creamos un histograma\n",
    "        n, bins, patches = plt.hist(muestra, n_bins) #facecolor='blue', alpha=0.7)\n",
    "        plt.ylabel('Probabilidad')\n",
    "        plt.xlabel('Estatura (cms)')\n",
    "        plt.title(\"Distribución Uniforme de Estaturas\")\n",
    "        print(muestra)\n",
    "    return resultado\n",
    "\n",
    "muestras = muestra_uniforme(150, 168, 100, 9, 1)"
   ]
  },
  {
   "cell_type": "code",
   "execution_count": 2,
   "metadata": {},
   "outputs": [
    {
     "name": "stdout",
     "output_type": "stream",
     "text": [
      "[167.54946101 149.1581142  138.74313172 158.33007275 135.17860708\n",
      " 141.75208617 159.11145494 164.12763077 150.09989123 172.65669374\n",
      " 144.6333983  166.50072478 159.22426642 169.01767247 166.51001304\n",
      " 149.47792224 162.61473632 151.06756383 167.45775072 193.28190203\n",
      " 160.52579438 157.28020334 146.10069136 148.69956222 176.71626279\n",
      " 138.58208358 176.7532084  129.45951138 139.70691028 162.15243548\n",
      " 171.14962578 137.50481679 153.64904917 144.72644795 181.35356326\n",
      " 170.49380673 147.6985874  165.13323365 165.3403914  155.31894222\n",
      " 167.97764431 178.5301682  163.94943822 180.66095689 169.79690836\n",
      " 160.17225702 143.63623091 175.18280854 146.86458061 157.5560457\n",
      " 150.49221814 172.72858756 141.99036559 154.01804191 189.78718249\n",
      " 178.74045284 162.09458491 156.56385237 177.36492009 158.75046225\n",
      " 169.40834969 154.93103721 142.7756698  173.12713973 161.53168417\n",
      " 161.01018171 161.70720075 186.84210667 159.4819027  186.78460511\n",
      " 159.70225036 146.01631377 121.59234504 146.05601356 161.51059293\n",
      " 156.05349613 169.97268858 149.51789241 177.26815834 175.62896181\n",
      " 158.18269979 172.29745081 183.05382994 148.54072555 147.50950186\n",
      " 161.32869699 141.95638354 176.83845685 177.61091223 144.39160535\n",
      " 167.22884848 137.45218374 178.99059726 158.31518915 155.55825349\n",
      " 170.06214472 147.09237832 185.73152696 161.47466955 155.19397442]\n"
     ]
    },
    {
     "data": {
      "image/png": "[encoded data removed]",
      "text/plain": [
       "<Figure size 432x288 with 1 Axes>"
      ]
     },
     "metadata": {
      "needs_background": "light"
     },
     "output_type": "display_data"
    }
   ],
   "source": [
    "# Se crea la función para la generación de muestras con distribución normal\n",
    "\n",
    "%matplotlib inline \n",
    "import numpy as np\n",
    "import matplotlib.pyplot as plt\n",
    "\n",
    "def muestra_gauss(mean, standev, s_size: int, n_bins, print_opc: bool):\n",
    "    muestra = np.random.normal(mean, standev, s_size)\n",
    "    resultado = muestra    \n",
    "    # Creamos un histograma\n",
    "    if print_opc:\n",
    "        print(muestra)\n",
    "        n, bins, patches = plt.hist(muestra, n_bins) #facecolor='blue', alpha=0.7)\n",
    "        plt.ylabel('Probabilidad')\n",
    "        plt.xlabel('Estatura (cms)')\n",
    "        plt.title(\"Distribución Normal de Estaturas\")\n",
    "    return resultado\n",
    "\n",
    "muestras = muestra_gauss(159, 15, 100, 9, 1)"
   ]
  },
  {
   "cell_type": "markdown",
   "metadata": {},
   "source": [
    "\n",
    "2. **Evaluación de la función de verosimilitud normal**. Deberán proveer una función que reciba una de las **muestras** del punto 1 y evalúe la probabilidad que esa muestra provenga de una distribución normal con parámetros $\\mu$ y $\\sigma$ (que deberán ser enviados a la función). Deberán mostrar ejemplos obtenidos bajo ambos esquemas de muestreo. Por ejemplo, si se crea una muestra normal centrada en $\\mu_1=177$ con $\\sigma_1=1$ y evaluamos la verosimilitud para $\\mu=176,\\sigma=3$ podría darnos una probabilidad alta. En contraposición, al crear una muestra uniforme entre $170$ y $180$ y evaluarla para esos mismos parámetros de verosimilitud, se esperaría que sea menos probable. Todo lo anterior debe reflejarse con ejemplos que muestren el correcto funcionamiento (10 puntos)\n"
   ]
  },
  {
   "cell_type": "markdown",
   "metadata": {},
   "source": [
    "\n",
    "\\begin{equation}\n",
    "p\\left(\\vec{h}|\\mu,\\sigma\\right)=\\prod_{n=1}^{M}\\mathcal{N}\\left(h_{n}|\\mu,\\sigma\\right)\n",
    "\\end{equation}\n",
    "\n"
   ]
  },
  {
   "cell_type": "code",
   "execution_count": 3,
   "metadata": {},
   "outputs": [
    {
     "name": "stdout",
     "output_type": "stream",
     "text": [
      "\n",
      "Evaluación de la prueba de verosimilitud para diferentes muestras:\n",
      "==================================================================\n",
      "\n",
      "Muestra Gaussiana con n = 100, µ1 = 177 y σ1 = 3 \n",
      "Evaluada con µ de 176 y σ de 3. Probabilidad: 7.115934770072679e-96\n",
      "------------------------------------------------------------------\n",
      "\n",
      "Muestra Uniforme con n = 100, entre 170 y 180\n",
      "Evaluada con µ de 176 y σ de 3. Probabilidad: 2.856108404116725e-118\n",
      "------------------------------------------------------------------\n",
      "\n"
     ]
    }
   ],
   "source": [
    "# Función de verosimilitud normal\n",
    "\n",
    "import scipy.stats as stats\n",
    "\n",
    "def verosimilnorm(sample: list, mean, standev):\n",
    "    n = len(sample)\n",
    "    productoria = 0.0\n",
    "    for i in range(n):\n",
    "        if i == 0:\n",
    "            productoria = stats.norm.pdf(sample[0], loc=mean, scale=standev)\n",
    "        productoria = stats.norm.pdf(sample[i], loc=mean, scale=standev) * productoria\n",
    "    resultado = productoria / n\n",
    "    return resultado\n",
    "\n",
    "n = 100 # Tamaño de la muestra\n",
    "\n",
    "# Muestra Gaussina con n = 100, µ1 = 177 y σ1 = 1, evaluada con µ1 = 176 y σ1 = 3\n",
    "muestras = muestra_gauss(177, 1, n, 9, 0)\n",
    "mean = 176\n",
    "standev = 3\n",
    "resultado = verosimilnorm(muestras, mean, standev)\n",
    "\n",
    "print('\\nEvaluación de la prueba de verosimilitud para diferentes muestras:')\n",
    "print('==================================================================\\n')\n",
    "print(f'Muestra Gaussiana con n = {n}, µ1 = 177 y σ1 = {standev} ')\n",
    "print(f'Evaluada con µ de {mean} y σ de {standev}. Probabilidad: {resultado}')\n",
    "print('------------------------------------------------------------------\\n')\n",
    "\n",
    "# Muestra Uniforme con n = 100, entre 170 y 180, evaluada con µ1 = 176 y σ1 = 3\n",
    "muestras = muestra_uniforme(170, 180, n, 9, 0)\n",
    "mean = 176\n",
    "standev = 3\n",
    "resultado = verosimilnorm(muestras, mean, standev)\n",
    "\n",
    "print(f'Muestra Uniforme con n = {n}, entre 170 y 180')\n",
    "print(f'Evaluada con µ de 176 y σ de 3. Probabilidad: {resultado}')\n",
    "print('------------------------------------------------------------------\\n')\n"
   ]
  },
  {
   "cell_type": "markdown",
   "metadata": {},
   "source": [
    "##### Como se puede ver en el resultado de la aplicación de la función de verosimilitud (def verosimilnorm()), funciona adecuadamente ya que la evaluación, con un n = 100, de la muestra Normal es más probable que la de la muestra Uniforme, al ser evaluadas con µ de 176 y σ de 3."
   ]
  },
  {
   "cell_type": "markdown",
   "metadata": {},
   "source": [
    "3. ¿Qué problema ocurre con el cálculo de la función de verosimilitud cuando aumentamos la cantidad de observaciones en varios órdenes de magnitud? y ¿Cual sería una forma de solucionar este problema? Programe una función con la posible solución y anote como comentarios las respuestas a las dos preguntas anteriores. De igual forma muestre un ejemplo de como invocar esta función (10 puntos)"
   ]
  },
  {
   "cell_type": "code",
   "execution_count": 4,
   "metadata": {},
   "outputs": [
    {
     "name": "stdout",
     "output_type": "stream",
     "text": [
      "\n",
      "Evaluación de la prueba de verosimilitud para diferentes muestras:\n",
      "==================================================================\n",
      "\n",
      "Muestra Gaussiana con n = 1000, µ1 = 177 y σ1 = 3 \n",
      "Evaluada con µ de 176 y σ de 3. Probabilidad: 0.0\n",
      "------------------------------------------------------------------\n",
      "\n",
      "Muestra Uniforme con n = 1000, entre 170 y 180\n",
      "Evaluada con µ de 176 y σ de 3. Probabilidad: 0.0\n",
      "------------------------------------------------------------------\n",
      "\n"
     ]
    }
   ],
   "source": [
    "# ¿Qué problema ocurre con el cálculo de la función de verosimilitud cuando aumentamos la cantidad de \n",
    "# observaciones en varios órdenes de magnitud?\n",
    "\n",
    "# R/ Cuando apliqué la función con muestras de 100 elementos el resultado fue probabilidades muy bajas \n",
    "# pero cuando se sube la cantidad a un orden de magnitud mayor, es decir a 1000, el resultado se vuelve 0,\n",
    "# por el efecto de underflow, lo cual se muestra en el siguiente ejemplo:\n",
    "\n",
    "n = 1000 # Tamaño de la muestra\n",
    "\n",
    "# Muestra Gaussina con n = 100, µ1 = 177 y σ1 = 1, evaluada con µ1 = 176 y σ1 = 3\n",
    "muestras = muestra_gauss(177, 1, n, 9, 0)\n",
    "mean = 176\n",
    "standev = 3\n",
    "resultado = verosimilnorm(muestras, mean, standev)\n",
    "\n",
    "print('\\nEvaluación de la prueba de verosimilitud para diferentes muestras:')\n",
    "print('==================================================================\\n')\n",
    "print(f'Muestra Gaussiana con n = {n}, µ1 = 177 y σ1 = {standev} ')\n",
    "print(f'Evaluada con µ de {mean} y σ de {standev}. Probabilidad: {resultado}')\n",
    "print('------------------------------------------------------------------\\n')\n",
    "\n",
    "# Muestra Uniforme con n = 100, entre 170 y 180, evaluada con µ1 = 176 y σ1 = 3\n",
    "muestras = muestra_uniforme(170, 180, n, 9, 0)\n",
    "mean = 176\n",
    "standev = 3\n",
    "resultado = verosimilnorm(muestras, mean, standev)\n",
    "\n",
    "print(f'Muestra Uniforme con n = {n}, entre 170 y 180')\n",
    "print(f'Evaluada con µ de 176 y σ de 3. Probabilidad: {resultado}')\n",
    "print('------------------------------------------------------------------\\n')\n"
   ]
  },
  {
   "cell_type": "markdown",
   "metadata": {},
   "source": [
    "#### ¿Cual sería una forma de solucionar este problema? Programe una función con la posible solución y anote como comentarios las respuestas a las dos preguntas anteriores. \n",
    "\n",
    "#### R/ Como posible solución, y de acuerdo con lo visto en clase, se puede aplicar logaritmos; el logaritmo natural es usual en cálculos que involucran probabilidades, pues evita el problema del \"underflow\" que resulta de calcular el producto de muchos números de magnitud menor que uno. Por lo tanto se aplicará la fórmula vista en clase en la que se aplicó logaritmo natural a la funcón de verosimilitud. El valor final de la función corresponderá al exponente al que se debería elevar el número de Euler (2.71828182) para obtener la probabilidad. La fórmula a aplicar es la siguiente:\n",
    "\n",
    "\\begin{equation}\n",
    "\\ln\\left(p\\left(\\vec{h}|\\mu,\\sigma\\right)\\right)=-\\frac{1}{2\\sigma^{2}}\\sum_{n=1}^{M}\\left(h_{n}-\\mu\\right)^{2}-\\frac{M}{2}\\ln\\left(2\\pi\\right)-M\\,\\ln\\left(\\sigma\\right).\n",
    "\\end{equation}"
   ]
  },
  {
   "cell_type": "code",
   "execution_count": 5,
   "metadata": {},
   "outputs": [
    {
     "name": "stdout",
     "output_type": "stream",
     "text": [
      "\n",
      "Evaluación de la prueba de verosimilitud para diferentes muestras:\n",
      "==================================================================\n",
      "\n",
      "Muestra Gaussiana con n = 1000, µ1 = 177 y σ1 = 3 \n",
      "Evaluada con µ de 176 y σ de 3. Probabilidad: E ** -2126.5511356772477\n",
      "------------------------------------------------------------------\n",
      "\n",
      "Muestra Uniforme con n = 1000, entre 170 y 180\n",
      "Evaluada con µ de 176 y σ de 3. Probabilidad: E ** -2614.32859965056\n",
      "------------------------------------------------------------------\n",
      "\n"
     ]
    }
   ],
   "source": [
    "import math\n",
    "\n",
    "def verosimilnorm(sample: list, mean, standev):\n",
    "    n = len(sample)\n",
    "    sumatoria = 0.0\n",
    "    factor1 = 0.0\n",
    "    factor2 = 0.0\n",
    "    factor3 = 0.0\n",
    "    np.arange(sumatoria, dtype=np.float16)\n",
    "    for i in range(n):\n",
    "        sumatoria += ((sample[i-1] - mean) ** 2)\n",
    "    factor1 = - (1/(2 * standev ** 2)) * sumatoria\n",
    "    factor2 = -(n/2) * math.log(2 * math.pi)\n",
    "    factor3 = - n * math.log(standev)\n",
    "    resultado = factor1 + factor2 + factor3\n",
    "    return resultado\n",
    "\n",
    "n = 1000 # Tamaño de la muestra\n",
    "\n",
    "# Muestra Gaussina con n = 1000, µ1 = 177 y σ1 = 1, evaluada con µ1 = 176 y σ1 = 3\n",
    "muestras = muestra_gauss(177, 1, n, 9, 0)\n",
    "mean = 176\n",
    "standev = 3\n",
    "resultado = verosimilnorm(muestras, mean, standev)\n",
    "\n",
    "import pandas as pd\n",
    "df =  pd.DataFrame(muestras) \n",
    "df.to_excel(\"data.xlsx\")\n",
    "\n",
    "print('\\nEvaluación de la prueba de verosimilitud para diferentes muestras:')\n",
    "print('==================================================================\\n')\n",
    "print(f'Muestra Gaussiana con n = {n}, µ1 = 177 y σ1 = {standev} ')\n",
    "print(f'Evaluada con µ de {mean} y σ de {standev}. Probabilidad: E ** {resultado}')\n",
    "print('------------------------------------------------------------------\\n')\n",
    "\n",
    "# Muestra Uniforme con n = 100, entre 170 y 180, evaluada con µ1 = 176 y σ1 = 3\n",
    "muestras = muestra_uniforme(170, 180, n, 9, 0)\n",
    "mean = 176\n",
    "standev = 3\n",
    "resultado = verosimilnorm(muestras, mean, standev)\n",
    "\n",
    "print(f'Muestra Uniforme con n = {n}, entre 170 y 180')\n",
    "print(f'Evaluada con µ de 176 y σ de 3. Probabilidad: E ** {resultado}')\n",
    "print('------------------------------------------------------------------\\n')"
   ]
  },
  {
   "cell_type": "markdown",
   "metadata": {},
   "source": [
    "##### R/ Como se mencionó anteriormente, el resultado del algoritmo de la función de verosimilitud representa el exponente al que habría que elevar el numero de Euler (E = 2.7182818) para obtener la probabilidad final pero debido a la limitación de cómputo de este cálculo con un exponente tan grande daría 0, por lo que se deja expresado como 'E ** [resultado] y como el resultado es negativo, entre más pequeño sea el numéro mayor la probabilidad por lo que los resultados son consistentes en que la media de 176 y la desviació estandar evaluada para muestra Gaussiana es más probable que para la muestra de distribución uniforme."
   ]
  },
  {
   "cell_type": "markdown",
   "metadata": {},
   "source": [
    "\n",
    "4. Implemente una función para determinar los valores óptimos para maximizar la función de verosimilitud normal, según teoría vista en clase. Suponga que la cantidad de observaciones (N) siempre es alta. Igualmente se espera que se provean ejemplos en el código para mostrar el correcto funcionamiento (10 puntos)"
   ]
  },
  {
   "cell_type": "markdown",
   "metadata": {},
   "source": [
    "##### Las fórmulas para obtener los valores óptimos para maximas la función de verosimilitud normal son:\n",
    "\n",
    "#### Media $\\mu$\n",
    "\\begin{equation}\n",
    "\\mu=\\frac{1}{M}\\left(\\sum_{n=1}^{M}h_{n}\\right)\n",
    "\\end{equation}\n",
    "\n",
    "#### Varianza $\\sigma^{2}$ \n",
    "\\begin{equation}\n",
    "\\sigma^{2}=\\frac{1}{M}\\sum_{n=1}^{M}\\left(h_{n}-\\mu\\right)^{2}\n",
    "\\end{equation}\n"
   ]
  },
  {
   "cell_type": "code",
   "execution_count": 6,
   "metadata": {},
   "outputs": [
    {
     "name": "stdout",
     "output_type": "stream",
     "text": [
      "El valor de µ óptimo es: 176.91164515196346\n",
      "El valor de σ2 óptimo es: 8.866075711922155\n",
      "[176.91164515196346, 8.866075711922155]\n"
     ]
    }
   ],
   "source": [
    "# Función para determinar los valores óptimos de la función de verosimilitud\n",
    "# ===================================================================================\n",
    "\n",
    "%matplotlib inline \n",
    "import numpy as np\n",
    "import matplotlib.pyplot as plt\n",
    "\n",
    "\n",
    "# Primero creo la función para calcular los valores óptimos que maximizan los valores de verosimilitud\n",
    "\n",
    "def optimos(muestra: list):\n",
    "    # Calcula los valores óptimos de µ y σ2 para maximas la función de verosimilitud normal \n",
    "    media = 0.0\n",
    "    varianza = 0.0\n",
    "    n = 0\n",
    "    sumatoria = 0.0\n",
    "    \n",
    "    # Media µ\n",
    "    for i in range(len(muestra)):\n",
    "        n += 1\n",
    "        sumatoria += muestra[i-1]\n",
    "    media = sumatoria / n\n",
    "    print(f'El valor de µ óptimo es: {media}')\n",
    "    \n",
    "    n = 0\n",
    "    sumatoria = 0.0\n",
    "    # Varianza σ2\n",
    "    for i in range(len(muestra)):\n",
    "        n += 1\n",
    "        sumatoria += (muestra[i-1] - media) ** 2\n",
    "    varianza = sumatoria / n\n",
    "    print(f'El valor de σ2 óptimo es: {varianza}')\n",
    "    return [media, varianza]\n",
    "\n",
    "\n",
    "# Se genera la muestra gaussiana con la fórmula anteriormente creada, con N = 1000, µ1 = 177 y σ1 = 3:\n",
    "muestra = muestra_gauss(177, 3, 1000, 9, 0)\n",
    "\n",
    "# Por último aplicamos la función de valores óptimos a la muestra antes creada\n",
    "optimos = optimos(muestra)\n",
    "print(optimos)\n",
    "   "
   ]
  },
  {
   "cell_type": "code",
   "execution_count": 7,
   "metadata": {},
   "outputs": [
    {
     "name": "stdout",
     "output_type": "stream",
     "text": [
      "El valor de µ óptimo es: 177.11804527057805\n",
      "El valor de σ2 óptimo es: 9.232427438217885\n",
      "<class 'numpy.float64'>\n",
      "9.232427438217885\n"
     ]
    }
   ],
   "source": [
    "%matplotlib inline \n",
    "import numpy as np\n",
    "import matplotlib.pyplot as plt\n",
    "\n",
    "\n",
    "# Primero creo la función para calcular los valores óptimos que maximizan la función de verosimilitud\n",
    "\n",
    "def optimos(muestra: list):\n",
    "    # Calcula los valores óptimos de µ y σ2 para maximas la función de verosimilitud normal \n",
    "    media = 0.0\n",
    "    varianza = 0.0\n",
    "    n = 0\n",
    "    sumatoria = 0.0\n",
    "    \n",
    "    # Media µ\n",
    "    for i in range(len(muestra)):\n",
    "        n += 1\n",
    "        sumatoria += muestra[i-1]\n",
    "    media = sumatoria / n\n",
    "    print(f'El valor de µ óptimo es: {media}')\n",
    "    \n",
    "    n = 0\n",
    "    sumatoria = 0.0\n",
    "    # Varianza σ2\n",
    "    for i in range(len(muestra)):\n",
    "        n += 1\n",
    "        sumatoria += (muestra[i-1] - media) ** 2\n",
    "    varianza = sumatoria / n\n",
    "    print(f'El valor de σ2 óptimo es: {varianza}')\n",
    "    return varianza\n",
    "\n",
    "\n",
    "# Se genera la muestra gaussiana con la fórmula anteriormente creada, con N = 1000, µ1 = 177 y σ1 = 3:\n",
    "muestra = muestra_gauss(177, 3, 1000, 9, 0)\n",
    "\n",
    "# Por último aplicamos la función de valores óptimos a la muestra antes creada\n",
    "optimos = optimos(muestra)\n",
    "print(type(optimos))\n",
    "print(optimos)"
   ]
  },
  {
   "cell_type": "markdown",
   "metadata": {},
   "source": [
    "5. Genere 10000 muestras de 30 observaciones cada una  provenientes de una distribución normal con $\\mu=170$ y $\\sigma=1$. Calcule el valor óptimo de la varianza para maximizar la función de verosimilitud normal de cada muestra (estimador de la varianza sesgado) y luego obtenga el valor esperado de la varianza (promedio sobre las 10000 muestras). Compare este valor esperado con el valor  de varianza usado para generar las muestras ($\\sigma^{2}=1$)  . Ejecute varias veces su código y responda ¿El valor esperado de la varianza aproxima de manera correcta la varianza original  de la distribución o es necesario hacer alguna corrección en este caso para el cálculo del valor óptimo de la varianza? Justifique su respuesta en ambos casos y explique cual sería la corrección en caso afirmativo (10 puntos)"
   ]
  },
  {
   "cell_type": "code",
   "execution_count": 8,
   "metadata": {},
   "outputs": [
    {
     "name": "stdout",
     "output_type": "stream",
     "text": [
      "El valor esperado de la varianza es: 0.9693425532915738\n"
     ]
    }
   ],
   "source": [
    "# Primero redefino la función para calcular los valores óptimos para que retorne sólo la varianza\n",
    "\n",
    "def optimos(muestra: list):\n",
    "    # Calcula los valores óptimos de µ y σ2 para maximas la función de verosimilitud normal \n",
    "    media = 0.0\n",
    "    varianza = 0.0\n",
    "    n = 0\n",
    "    sumatoria = 0.0\n",
    "    \n",
    "    # Media µ\n",
    "    for i in range(len(muestra)):\n",
    "        n += 1\n",
    "        sumatoria += muestra[i]\n",
    "    media = sumatoria / n\n",
    "    # print(f'El valor de µ óptimo es: {media}')\n",
    "    \n",
    "    n = 0\n",
    "    sumatoria = 0.0\n",
    "    # Varianza σ2\n",
    "    for i in range(len(muestra)):\n",
    "        n += 1\n",
    "        sumatoria += (muestra[i] - media) ** 2\n",
    "    varianza = sumatoria / n\n",
    "    # print(f'El valor de σ2 óptimo es: {varianza}')\n",
    "    return varianza # Retorna la varianza óptima\n",
    "\n",
    "muestra = []\n",
    "muestras = [] # Arreglo para almacenar el conjunto de las muestras generadas\n",
    "varianza = 0.0\n",
    "vars_opt = [] # Arreglo de las varianzas óptimas para cada muestra\n",
    "sumatoria = 0.0\n",
    "n_muestras = 10000 # Cantidad de muestras\n",
    "n_observaciones = 30  # Cantidad de observaciones por muestra\n",
    "\n",
    "for i in range(n_muestras):\n",
    "    muestra = muestra_gauss(170, 1, n_observaciones, 9, 0)\n",
    "    # print(muestra)\n",
    "    muestras.append(muestra)\n",
    "    varianza = optimos(muestras[i-1])\n",
    "    vars_opt.append(varianza)\n",
    "    sumatoria += varianza\n",
    "\n",
    "val_esperado = sumatoria / n_muestras\n",
    "\n",
    "print(f'El valor esperado de la varianza es: {val_esperado}')"
   ]
  },
  {
   "cell_type": "markdown",
   "metadata": {},
   "source": [
    "¿El valor esperado de la varianza aproxima de manera correcta la varianza original de la distribución o es necesario hacer alguna corrección en este caso para el cálculo del valor óptimo de la varianza?\n",
    "\n",
    "R/ Como puede verse en el cálculo, el valor esperado de la varianza, para 10000 muestras de 30 observaciones cada una,  resulta en 0.9659, por lo que no da exacto en el valor de 1; de acuerdo con lo visto en clase, esto se debe a que, tanto el cálculo del valor óptimo de las varianzas como el valor esperado muestral se están calculando de forma sesgada, es decir, tomando el factor (1 / M) por lo que a continuación se probará el mismo cálculo pero utilizando el factor no sesgado, es decir (1 / (M-1))\n"
   ]
  },
  {
   "cell_type": "code",
   "execution_count": 10,
   "metadata": {},
   "outputs": [
    {
     "name": "stdout",
     "output_type": "stream",
     "text": [
      "El valor esperado de la varianza es: 1.002145970970735\n"
     ]
    }
   ],
   "source": [
    "# Se vuelve a modificar la función para calcular el valor óptimo de la varianza pero utilizando el factor no sesgado\n",
    "# es decir de 1/(M-1)\n",
    "\n",
    "def optimos(muestra: list):\n",
    "    # Calcula los valores óptimos de µ y σ2 para maximas la función de verosimilitud normal \n",
    "    media = 0.0\n",
    "    varianza = 0.0\n",
    "    n = 0\n",
    "    sumatoria = 0.0\n",
    "    \n",
    "    # Media µ\n",
    "    for i in range(len(muestra)):\n",
    "        n += 1\n",
    "        sumatoria += muestra[i-1]\n",
    "    media = sumatoria / n\n",
    "    # print(f'El valor de µ óptimo es: {media}')\n",
    "    \n",
    "    n = 0\n",
    "    sumatoria = 0.0\n",
    "    # Varianza σ2\n",
    "    for i in range(len(muestra)):\n",
    "        n += 1\n",
    "        sumatoria += (muestra[i-1] - media) ** 2\n",
    "    varianza = sumatoria / (n-1)\n",
    "    # print(f'El valor de σ2 óptimo es: {varianza}')\n",
    "    return varianza # Retorna la varianza óptima\n",
    "\n",
    "muestra = []\n",
    "muestras = [] # Arreglo para almacenar el conjunto de las muestras generadas\n",
    "varianza = 0.0\n",
    "vars_opt = [] # Arreglo de las varianzas óptimas para cada muestra\n",
    "sumatoria = 0.0\n",
    "n_muestras = 10000 # Cantidad de muestras\n",
    "n_observaciones = 30  # Cantidad de observaciones por muestra\n",
    "\n",
    "for i in range(n_muestras):\n",
    "    muestra = muestra_gauss(170, 1, n_observaciones, 9, 0)\n",
    "    # print(muestra)\n",
    "    muestras.append(muestra)\n",
    "    varianza = optimos(muestras[i-1])\n",
    "    vars_opt.append(varianza)\n",
    "    sumatoria += varianza\n",
    "\n",
    "val_esperado = sumatoria / (n_muestras-1)\n",
    "\n",
    "print(f'El valor esperado de la varianza es: {val_esperado}')"
   ]
  },
  {
   "cell_type": "markdown",
   "metadata": {},
   "source": [
    "##### Como puede verse, con el ajuste de incluir el factor no sesgado,  ahora el resultado del cálculo del valor esperado de la varianza es mucho mejor aproximado a 1"
   ]
  },
  {
   "cell_type": "code",
   "execution_count": null,
   "metadata": {},
   "outputs": [],
   "source": []
  }
 ],
 "metadata": {
  "colab": {
   "collapsed_sections": [],
   "name": "Tarea1_EstadisticaParaCienciaDeLosDatos.ipynb",
   "provenance": []
  },
  "kernelspec": {
   "display_name": "Python 3 (ipykernel)",
   "language": "python",
   "name": "python3"
  },
  "language_info": {
   "codemirror_mode": {
    "name": "ipython",
    "version": 3
   },
   "file_extension": ".py",
   "mimetype": "text/x-python",
   "name": "python",
   "nbconvert_exporter": "python",
   "pygments_lexer": "ipython3",
   "version": "3.8.8"
  }
 },
 "nbformat": 4,
 "nbformat_minor": 1
}
