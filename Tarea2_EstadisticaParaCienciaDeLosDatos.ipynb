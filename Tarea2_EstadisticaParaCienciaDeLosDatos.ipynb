{
 "cells": [
  {
   "cell_type": "markdown",
   "metadata": {
    "id": "jdtaAwa8XzNA"
   },
   "source": [
    "\n",
    "# Tecnológico de Costa Rica\n",
    "## Programa de Ciencia de Datos\n",
    "### Prof. Jorge Castro Castro\n",
    "\n",
    "### Estadística para Ciencia de los Datos 02-0871-01\n",
    "#### Tarea-2\n",
    "\n",
    "--- \n",
    "\n",
    "Entregables: Un archivo jupyter ( .IPYNB ). \n",
    "\n",
    "Modo de trabajo: Parejas:\n",
    "Estudiantes:\n",
    "\n",
    "Yu Hung Yeh Chai\n",
    "\n",
    "José Alberto Raygada Agüero\n",
    "\n",
    "---\n",
    "\n",
    "En esta asignación se busca que los estudiantes exploren un conjunto de datos y determinen qué distribución modela más efectivamente cada columna. En particular, se sugiere que los estudiantes utilicen el conjunto de datos provisto, pero queda abierto a la decisión de los estudiantes usar otros sets de datos.\n",
    "\n",
    "Deberán tomar en cuenta todas las distribuciones vistas en clase pero no deben limitarse a ellas. Se espera que haya un uso significativo de bibliotecas como `matplotlib` para mostrar visualmente la comparación entre los datos y las distribuciones propuestas.\n",
    "\n",
    "Los estudiantes deberán entregar a más tardar el día 13 de febrero a las 10:00PM un notebook de colab con la solución a los siguientes ejercicios:\n",
    "\n",
    "1. Elija alguna variable **cuantitativa** del set de datos y: \n",
    "  - Muestre el histograma calculado dinámicamente (e.g. con `matplotlib`) (2 puntos)\n",
    "  - Brinde al menos una propuesta de distribución candidata que modela esa columna, definiendo los parámetros de la distribución y una gráfica de la distribución paramétrica con `matplotlib` (10 puntos)\n",
    "  - Proporcione una explicación detallada de qué valores y distribuciones se probaron en el proceso y por qué se hizo la escogencia. (3 puntos)\n",
    "\n",
    "2. Seleccione 3 columnas adicionales (también cuantitativas) y realize el mismo proceso del punto 2 (45 puntos)\n",
    " - Histograma (2 puntos)\n",
    " - Parámetros y gráfica (10 puntos)\n",
    " - Justificación (3 puntos)"
   ]
  },
  {
   "cell_type": "code",
   "execution_count": 1,
   "metadata": {},
   "outputs": [],
   "source": [
    "%matplotlib inline\n",
    "import matplotlib.pyplot as plt\n",
    "import numpy as np\n",
    "import pandas as pd\n",
    "import scipy.stats as stats\n",
    "import torch\n",
    "from torch.distributions import Exponential\n",
    "from torch.distributions import Normal\n",
    "from scipy.stats import norm\n",
    "from scipy.stats import gamma\n",
    "from scipy.stats import expon\n",
    "from scipy.stats import weibull_min\n",
    "from scipy.stats import t\n",
    "\n",
    "#Funciones\n",
    "def plotHistogram(data, bins, title, x, prob):\n",
    "    plt.hist(data, bins, edgecolor = 'black', linewidth=1, density=True, color='blue', alpha=0.7)\n",
    "    plt.title(title)\n",
    "    plt.plot(x, prob, color=\"r\", linewidth=2)"
   ]
  },
  {
   "cell_type": "code",
   "execution_count": 3,
   "metadata": {},
   "outputs": [
    {
     "data": {
      "text/html": [
       "<div>\n",
       "<style scoped>\n",
       "    .dataframe tbody tr th:only-of-type {\n",
       "        vertical-align: middle;\n",
       "    }\n",
       "\n",
       "    .dataframe tbody tr th {\n",
       "        vertical-align: top;\n",
       "    }\n",
       "\n",
       "    .dataframe thead th {\n",
       "        text-align: right;\n",
       "    }\n",
       "</style>\n",
       "<table border=\"1\" class=\"dataframe\">\n",
       "  <thead>\n",
       "    <tr style=\"text-align: right;\">\n",
       "      <th></th>\n",
       "      <th>carat</th>\n",
       "      <th>cut</th>\n",
       "      <th>color</th>\n",
       "      <th>clarity</th>\n",
       "      <th>depth</th>\n",
       "      <th>table</th>\n",
       "      <th>price</th>\n",
       "      <th>x</th>\n",
       "      <th>y</th>\n",
       "      <th>z</th>\n",
       "      <th>unknownCol</th>\n",
       "    </tr>\n",
       "  </thead>\n",
       "  <tbody>\n",
       "    <tr>\n",
       "      <th>0</th>\n",
       "      <td>0.32</td>\n",
       "      <td>Premium</td>\n",
       "      <td>J</td>\n",
       "      <td>VS2</td>\n",
       "      <td>61.9</td>\n",
       "      <td>58.0</td>\n",
       "      <td>504</td>\n",
       "      <td>4.38</td>\n",
       "      <td>4.35</td>\n",
       "      <td>2.70</td>\n",
       "      <td>5.100000</td>\n",
       "    </tr>\n",
       "    <tr>\n",
       "      <th>1</th>\n",
       "      <td>1.50</td>\n",
       "      <td>Good</td>\n",
       "      <td>F</td>\n",
       "      <td>SI2</td>\n",
       "      <td>62.9</td>\n",
       "      <td>59.0</td>\n",
       "      <td>7727</td>\n",
       "      <td>7.19</td>\n",
       "      <td>7.32</td>\n",
       "      <td>4.56</td>\n",
       "      <td>4.900000</td>\n",
       "    </tr>\n",
       "    <tr>\n",
       "      <th>2</th>\n",
       "      <td>0.38</td>\n",
       "      <td>Ideal</td>\n",
       "      <td>H</td>\n",
       "      <td>VS1</td>\n",
       "      <td>61.7</td>\n",
       "      <td>55.0</td>\n",
       "      <td>955</td>\n",
       "      <td>4.65</td>\n",
       "      <td>4.70</td>\n",
       "      <td>2.89</td>\n",
       "      <td>4.700000</td>\n",
       "    </tr>\n",
       "    <tr>\n",
       "      <th>3</th>\n",
       "      <td>0.53</td>\n",
       "      <td>Ideal</td>\n",
       "      <td>F</td>\n",
       "      <td>VVS1</td>\n",
       "      <td>62.1</td>\n",
       "      <td>53.2</td>\n",
       "      <td>2273</td>\n",
       "      <td>5.17</td>\n",
       "      <td>5.21</td>\n",
       "      <td>3.22</td>\n",
       "      <td>4.600000</td>\n",
       "    </tr>\n",
       "    <tr>\n",
       "      <th>4</th>\n",
       "      <td>0.55</td>\n",
       "      <td>Ideal</td>\n",
       "      <td>D</td>\n",
       "      <td>VS2</td>\n",
       "      <td>60.6</td>\n",
       "      <td>56.0</td>\n",
       "      <td>2224</td>\n",
       "      <td>5.30</td>\n",
       "      <td>5.36</td>\n",
       "      <td>3.23</td>\n",
       "      <td>5.000000</td>\n",
       "    </tr>\n",
       "    <tr>\n",
       "      <th>...</th>\n",
       "      <td>...</td>\n",
       "      <td>...</td>\n",
       "      <td>...</td>\n",
       "      <td>...</td>\n",
       "      <td>...</td>\n",
       "      <td>...</td>\n",
       "      <td>...</td>\n",
       "      <td>...</td>\n",
       "      <td>...</td>\n",
       "      <td>...</td>\n",
       "      <td>...</td>\n",
       "    </tr>\n",
       "    <tr>\n",
       "      <th>195</th>\n",
       "      <td>1.12</td>\n",
       "      <td>Premium</td>\n",
       "      <td>G</td>\n",
       "      <td>SI1</td>\n",
       "      <td>60.1</td>\n",
       "      <td>58.0</td>\n",
       "      <td>5233</td>\n",
       "      <td>6.78</td>\n",
       "      <td>6.83</td>\n",
       "      <td>4.09</td>\n",
       "      <td>6.763648</td>\n",
       "    </tr>\n",
       "    <tr>\n",
       "      <th>196</th>\n",
       "      <td>0.37</td>\n",
       "      <td>Ideal</td>\n",
       "      <td>D</td>\n",
       "      <td>VVS2</td>\n",
       "      <td>61.6</td>\n",
       "      <td>54.0</td>\n",
       "      <td>997</td>\n",
       "      <td>4.61</td>\n",
       "      <td>4.64</td>\n",
       "      <td>2.85</td>\n",
       "      <td>6.381457</td>\n",
       "    </tr>\n",
       "    <tr>\n",
       "      <th>197</th>\n",
       "      <td>0.30</td>\n",
       "      <td>Very Good</td>\n",
       "      <td>D</td>\n",
       "      <td>VVS2</td>\n",
       "      <td>60.6</td>\n",
       "      <td>58.0</td>\n",
       "      <td>2366</td>\n",
       "      <td>4.33</td>\n",
       "      <td>4.35</td>\n",
       "      <td>2.63</td>\n",
       "      <td>5.112152</td>\n",
       "    </tr>\n",
       "    <tr>\n",
       "      <th>198</th>\n",
       "      <td>2.18</td>\n",
       "      <td>Premium</td>\n",
       "      <td>J</td>\n",
       "      <td>VS2</td>\n",
       "      <td>60.1</td>\n",
       "      <td>58.0</td>\n",
       "      <td>15465</td>\n",
       "      <td>8.46</td>\n",
       "      <td>8.41</td>\n",
       "      <td>5.07</td>\n",
       "      <td>6.108909</td>\n",
       "    </tr>\n",
       "    <tr>\n",
       "      <th>199</th>\n",
       "      <td>0.32</td>\n",
       "      <td>Premium</td>\n",
       "      <td>I</td>\n",
       "      <td>VS2</td>\n",
       "      <td>62.2</td>\n",
       "      <td>59.0</td>\n",
       "      <td>449</td>\n",
       "      <td>4.35</td>\n",
       "      <td>4.37</td>\n",
       "      <td>2.71</td>\n",
       "      <td>5.415009</td>\n",
       "    </tr>\n",
       "  </tbody>\n",
       "</table>\n",
       "<p>200 rows × 11 columns</p>\n",
       "</div>"
      ],
      "text/plain": [
       "     carat        cut color clarity  depth  table  price     x     y     z  \\\n",
       "0     0.32    Premium     J     VS2   61.9   58.0    504  4.38  4.35  2.70   \n",
       "1     1.50       Good     F     SI2   62.9   59.0   7727  7.19  7.32  4.56   \n",
       "2     0.38      Ideal     H     VS1   61.7   55.0    955  4.65  4.70  2.89   \n",
       "3     0.53      Ideal     F    VVS1   62.1   53.2   2273  5.17  5.21  3.22   \n",
       "4     0.55      Ideal     D     VS2   60.6   56.0   2224  5.30  5.36  3.23   \n",
       "..     ...        ...   ...     ...    ...    ...    ...   ...   ...   ...   \n",
       "195   1.12    Premium     G     SI1   60.1   58.0   5233  6.78  6.83  4.09   \n",
       "196   0.37      Ideal     D    VVS2   61.6   54.0    997  4.61  4.64  2.85   \n",
       "197   0.30  Very Good     D    VVS2   60.6   58.0   2366  4.33  4.35  2.63   \n",
       "198   2.18    Premium     J     VS2   60.1   58.0  15465  8.46  8.41  5.07   \n",
       "199   0.32    Premium     I     VS2   62.2   59.0    449  4.35  4.37  2.71   \n",
       "\n",
       "     unknownCol  \n",
       "0      5.100000  \n",
       "1      4.900000  \n",
       "2      4.700000  \n",
       "3      4.600000  \n",
       "4      5.000000  \n",
       "..          ...  \n",
       "195    6.763648  \n",
       "196    6.381457  \n",
       "197    5.112152  \n",
       "198    6.108909  \n",
       "199    5.415009  \n",
       "\n",
       "[200 rows x 11 columns]"
      ]
     },
     "execution_count": 3,
     "metadata": {},
     "output_type": "execute_result"
    }
   ],
   "source": [
    "df = pd.read_csv(r'datasetTarea2.csv')\n",
    "df = pd.DataFrame(data=df)\n",
    "df"
   ]
  },
  {
   "cell_type": "code",
   "execution_count": 4,
   "metadata": {},
   "outputs": [],
   "source": [
    "# Análisis de los histogramas de las diferentes variables y propuestas de distribuciones\n",
    "\n",
    "n_bins = 9"
   ]
  },
  {
   "cell_type": "markdown",
   "metadata": {},
   "source": [
    "### Análisis de la variable 'carat'\n",
    "\n",
    "#### Comparación con la distribución:\n",
    "##### Gamma\n",
    "La distribución Gamma es adecuada para modelar el comportamiento de variables aleatorias continuas con asimétrica positiva, es decir, variables que presentan una mayor probabilidad de ocurrencia de eventos a la izquierda de la media que a la derecha.\n",
    "\n",
    "Parpametros:\n",
    "$\\alpha$ (shape) es un *parámetro de forma* y $\\beta$ (scale) es un *parámetro de escala*."
   ]
  },
  {
   "cell_type": "code",
   "execution_count": 5,
   "metadata": {},
   "outputs": [
    {
     "data": {
      "image/png": "[encoded data removed]",
      "text/plain": [
       "<Figure size 432x288 with 1 Axes>"
      ]
     },
     "metadata": {
      "needs_background": "light"
     },
     "output_type": "display_data"
    }
   ],
   "source": [
    "# Histograma de los datos de la columna 'carat'\n",
    "\n",
    "carat = df['carat']\n",
    "\n",
    "# Comparación con la distribución Gamma\n",
    "\n",
    "shape = 3\n",
    "scale = 0.2\n",
    "gamma = stats.gamma(a=shape,scale=scale)\n",
    "x = np.linspace(gamma.ppf(0.01),\n",
    "                gamma.ppf(0.99), 100)\n",
    "fp = gamma.pdf(x) # Función de Probabilidad\n",
    "\n",
    "plotHistogram(carat, n_bins, 'Histograma variable Carat vs dist. Gamma', x, fp)"
   ]
  },
  {
   "cell_type": "markdown",
   "metadata": {},
   "source": [
    "### Análisis de la variable 'carat'\n",
    "\n",
    "#### Comparación con la distribución:\n",
    "##### Exponencial\n",
    "La distribución exponencial es utilizada para determinar la probabilidad de que en cierto tiempo suceda un determinado evento.\n",
    "\n",
    "Parámetro:\n",
    "\n",
    "Lambda:  $\\lambda$ es el inverso de la duración esperada entre eventos y representa un parámetro de intensidad del proceso."
   ]
  },
  {
   "cell_type": "code",
   "execution_count": 6,
   "metadata": {},
   "outputs": [
    {
     "data": {
      "image/png": "[encoded data removed]",
      "text/plain": [
       "<Figure size 432x288 with 1 Axes>"
      ]
     },
     "metadata": {
      "needs_background": "light"
     },
     "output_type": "display_data"
    }
   ],
   "source": [
    "# Comparación con la distribución Exponencial\n",
    "\n",
    "#distribución exponencial, estimando lambda en función del promedio\n",
    "mean = pd.Series.mean(carat)\n",
    "n = len(carat)\n",
    "lambdaValue = mean #1.4 #0.78845\n",
    "\n",
    "exponencial = stats.expon(scale=lambdaValue)\n",
    "x = np.linspace(exponencial.ppf(0.01),\n",
    "                exponencial.ppf(0.99), n)\n",
    "fp = exponencial.pdf(x) # Función de Probabilidad\n",
    "\n",
    "plotHistogram(carat, n_bins, 'Histograma variable Carat vs dist. Exponencial', x, fp)"
   ]
  },
  {
   "cell_type": "markdown",
   "metadata": {},
   "source": [
    "### Análisis de la variable 'depth'\n",
    "\n",
    "#### Comparación con la distribución:\n",
    "##### Normal\n",
    "La distribución normal es una distribución continua que está determinada por la media μ y la desviación estándar σ. La media es el centro de la curva con forma de campana y la desviación estándar corresponde a la extensión de la distribución.\n",
    "\n",
    "\n",
    "Parámetro:\n",
    "\n",
    "Media μ y la desviación estándar σ"
   ]
  },
  {
   "cell_type": "code",
   "execution_count": 7,
   "metadata": {},
   "outputs": [
    {
     "data": {
      "image/png": "[encoded data removed]",
      "text/plain": [
       "<Figure size 432x288 with 1 Axes>"
      ]
     },
     "metadata": {
      "needs_background": "light"
     },
     "output_type": "display_data"
    }
   ],
   "source": [
    "# Histograma de los datos de depth\n",
    "\n",
    "# Comparación con la distribución normal\n",
    "\n",
    "# Histograma de los datos de depth\n",
    "\n",
    "depth = df['depth']\n",
    "\n",
    "my_mean = pd.Series.mean(depth)\n",
    "standev = pd.Series.std(depth)\n",
    "min = np.min(depth)\n",
    "max = np.max(depth)\n",
    "n = len(depth)\n",
    "x = np.linspace(min, max, n)\n",
    "\n",
    "plotHistogram(depth, n_bins, 'Histograma variable Depth vs Distribución Normal', x, norm.pdf(x, my_mean, standev))"
   ]
  },
  {
   "cell_type": "markdown",
   "metadata": {},
   "source": [
    "### Análisis de la variable 'table'\n",
    "\n",
    "#### Comparación con la distribución:\n",
    "##### Gamma\n",
    "La distribución Gamma es adecuada para modelar el comportamiento de variables aleatorias continuas con asimétrica positiva, es decir, variables que presentan una mayor probabilidad de ocurrencia de eventos a la izquierda de la media que a la derecha.\n",
    "\n",
    "Parpametros:\n",
    "$\\alpha$ (shape) es un *parámetro de forma* y $\\beta$ (scale) es un *parámetro de escala*."
   ]
  },
  {
   "cell_type": "code",
   "execution_count": 8,
   "metadata": {},
   "outputs": [
    {
     "data": {
      "image/png": "[encoded data removed]",
      "text/plain": [
       "<Figure size 432x288 with 1 Axes>"
      ]
     },
     "metadata": {
      "needs_background": "light"
     },
     "output_type": "display_data"
    }
   ],
   "source": [
    "# Histograma de los datos de la variable table\n",
    "\n",
    "table = df['table']\n",
    "\n",
    "# Comparación con la distribución Gamma\n",
    "\n",
    "shape = 635\n",
    "scale = 0.09\n",
    "\n",
    "gamma = stats.gamma(a=shape,scale=scale)\n",
    "x = np.linspace(gamma.ppf(0.01),\n",
    "                gamma.ppf(0.99), 100)\n",
    "fp = gamma.pdf(x) # Función de Probabilidad\n",
    "\n",
    "plotHistogram(table, n_bins, 'Histograma variable Table vs dist. Gamma', x, fp)"
   ]
  },
  {
   "cell_type": "markdown",
   "metadata": {},
   "source": [
    "### Análisis de la variable 'table'\n",
    "\n",
    "#### Comparación con la distribución:\n",
    "##### Weibull\n",
    "La distribución Weibull es ampliamente utilizada en la práctica de la ingeniería para modelar la vida útil de un sistema complejo conformado por varias partes que falla cuando la primera de ellas se daña. Weibull ha sido aplicada a la resolución de problemas en las áreas de la altura de mareas, eficacia de tratamientos médicos, reclamos de seguros, mantenimiento de alumbrado público, explosión de rocas y planificación de repuestos. \n",
    "\n",
    "Parámetros:\n",
    "\n",
    "Esta distribución incluye dos parámetros principales: Scale (s) > 0 y Shape ($\\beta$); en algunos casos se incluye un tercer parámetro denominado Location (L). En nuestro análisis utilizaremos la versión con los dos primeros parámetros: Scale y Shape."
   ]
  },
  {
   "cell_type": "code",
   "execution_count": 9,
   "metadata": {},
   "outputs": [
    {
     "data": {
      "image/png": "[encoded data removed]",
      "text/plain": [
       "<Figure size 432x288 with 1 Axes>"
      ]
     },
     "metadata": {
      "needs_background": "light"
     },
     "output_type": "display_data"
    }
   ],
   "source": [
    "# Variable Table\n",
    "# Comparación con la distribución Weibull\n",
    "\n",
    "#distribución exponencial, estimando lambda en función del promedio\n",
    "mean = pd.Series.mean(table)\n",
    "min = np.min(table)\n",
    "max = np.max(table)\n",
    "lambdaValue = 500\n",
    "shape = 23\n",
    "scale = 58\n",
    "\n",
    "x = np.linspace(min, max, 200)    \n",
    "p = weibull_min.pdf(x, shape, scale=scale)\n",
    "\n",
    "plotHistogram(table, n_bins, 'Histograma variable Table vs dist. Weibull', x, p)"
   ]
  },
  {
   "cell_type": "markdown",
   "metadata": {},
   "source": [
    "### Análisis de la variable 'price'\n",
    "\n",
    "#### Comparación con la distribución:\n",
    "##### Exponencial\n",
    "La distribución exponencial es utilizada para determinar la probabilidad de que en cierto tiempo suceda un determinado evento.\n",
    "\n",
    "Parámetro:\n",
    "\n",
    "Lambda:  $\\lambda$ es el inverso de la duración esperada entre eventos y representa un parámetro de intensidad del proceso."
   ]
  },
  {
   "cell_type": "code",
   "execution_count": 10,
   "metadata": {},
   "outputs": [
    {
     "data": {
      "image/png": "[encoded data removed]",
      "text/plain": [
       "<Figure size 432x288 with 1 Axes>"
      ]
     },
     "metadata": {
      "needs_background": "light"
     },
     "output_type": "display_data"
    }
   ],
   "source": [
    "# Histograma de los datos de price\n",
    "\n",
    "prices = df['price']\n",
    "\n",
    "# Comparación con la distribución Exponencial\n",
    "\n",
    "#distribución exponencial, estimando lambda en función del promedio\n",
    "mean = pd.Series.mean(prices)\n",
    "lambdaValue = 3800\n",
    "\n",
    "exponencial = stats.expon(scale=lambdaValue)\n",
    "x= np.linspace(exponencial.ppf(0.01),\n",
    "                exponencial.ppf(0.99), 100)\n",
    "fp = exponencial.pdf(x) # Función de Probabilidad\n",
    "\n",
    "plotHistogram(prices, n_bins, 'Histograma variable Prices vs dist. Exponencial', x, fp)"
   ]
  },
  {
   "cell_type": "markdown",
   "metadata": {},
   "source": [
    "### Análisis de la variable 'price'\n",
    "\n",
    "#### Comparación con la distribución:\n",
    "##### Weibull\n",
    "La distribución Weibull es ampliamente utilizada en la práctica de la ingeniería para modelar la vida útil de un sistema complejo conformado por varias partes que falla cuando la primera de ellas se daña. Weibull ha sido aplicada a la resolución de problemas en las áreas de la altura de mareas, eficacia de tratamientos médicos, reclamos de seguros, mantenimiento de alumbrado público, explosión de rocas y planificación de repuestos. \n",
    "\n",
    "Parámetros:\n",
    "\n",
    "Esta distribución incluye dos parámetros principales: Scale (s) > 0 y Shape ($\\beta$); en algunos casos se incluye un tercer parámetro denominado Location (L). En nuestro análisis utilizaremos la versión con los dos primeros parámetros."
   ]
  },
  {
   "cell_type": "code",
   "execution_count": 12,
   "metadata": {},
   "outputs": [
    {
     "data": {
      "image/png": "[encoded data removed]",
      "text/plain": [
       "<Figure size 432x288 with 1 Axes>"
      ]
     },
     "metadata": {
      "needs_background": "light"
     },
     "output_type": "display_data"
    }
   ],
   "source": [
    "# Comparación con la distribución Exponencial\n",
    "\n",
    "#distribución exponencial, estimando lambda en función del promedio\n",
    "mean = pd.Series.mean(prices)\n",
    "min = np.min(prices)\n",
    "max = np.max(prices)\n",
    "lambdaValue = 500\n",
    "shape = 1.05208\n",
    "scale = 3836.41566\n",
    "\n",
    "x = np.linspace(min, max, 200)    \n",
    "p = weibull_min.pdf(x, shape, scale=scale)\n",
    "\n",
    "plotHistogram(prices, n_bins, 'Histograma variable Prices vs dist. Weibull', x, p)"
   ]
  },
  {
   "cell_type": "markdown",
   "metadata": {},
   "source": [
    "\n",
    "3. Para cada columna aplicar una prueba KS  con un $\\alpha=0.05$ para determinar si la muestra en efecto sigue la misma distribución que los estudiantes plantean. Si bien es cierto en clase se abordó la prueba KS para pruebas de normalidad, estas también se pueden utilizar para cualquier otro tipo de distribución\n",
    " - 4 columnas x 10 puntos cada una (40 puntos)\n",
    " - Debe mostrarse suficiente detalle gráfico y aritmético en su respuesta"
   ]
  },
  {
   "cell_type": "markdown",
   "metadata": {},
   "source": [
    "### Prueba KS para la variable 'depth'\n",
    "\n",
    "#### Distribución Normal"
   ]
  },
  {
   "cell_type": "code",
   "execution_count": 74,
   "metadata": {},
   "outputs": [
    {
     "name": "stdout",
     "output_type": "stream",
     "text": [
      "tensor([ 2,  7, 18, 44, 73, 41, 11,  3,  1])\n",
      "tensor([56.9000, 58.1750, 59.4500, 60.7250, 62.0000, 63.2750, 64.5500, 65.8250,\n",
      "        67.1000])\n",
      "0.04277658868221006\n",
      "tensor(200)\n",
      "tensor([0.0015, 0.0143, 0.0782, 0.2595, 0.5507, 0.8159, 0.9528, 0.9928, 0.9994])\n",
      "tensor([0.0100, 0.0450, 0.1350, 0.3550, 0.7200, 0.9250, 0.9800, 0.9950, 1.0000])\n",
      "tensor(0.1693)\n"
     ]
    }
   ],
   "source": [
    "# Prueba KS con variable depth vs dist. Normal\n",
    "\n",
    "histogram, histogramX = np.histogram(depth, bins=9)\n",
    "histogram = torch.tensor(histogram)\n",
    "#number of observations\n",
    "n = histogram.sum()\n",
    "print(histogram)\n",
    "histogramNorm = histogram / n        #Norm factor for mean\n",
    "\n",
    "# histogramX = torch.tensor(histogramX)\n",
    "histogramX = torch.tensor([56.9,\t 58.175,\t 59.45,\t 60.725,\t 62.0,\t 63.275,\t 64.55,\t 65.825, 67.1])\n",
    "\n",
    "print(histogramX)\n",
    "histogramNorm2 = histogram / (n - 1) #Norm factor for std\n",
    "\n",
    "#calculate cumulative sum\n",
    "cdfEmpirical = torch.cumsum(histogramNorm, dim = 0)\n",
    "\n",
    "#get sample stats\n",
    "meanHist = (histogramX * histogramNorm).sum()\n",
    "stdHist = torch.sqrt((histogramNorm2 * (histogramX - meanHist) ** 2).sum())\n",
    "\n",
    "#Create ideal CDF\n",
    "normalDensity = Normal(meanHist, stdHist)\n",
    "cdfNormalIdeal = normalDensity.cdf(histogramX) #points used to evaluate cdf\n",
    "\n",
    "#Compare the empirical and ideal distributions\n",
    "difference = torch.abs(cdfNormalIdeal - cdfEmpirical)\n",
    "dn = torch.max(difference)\n",
    "\n",
    "print(stats.ksone.ppf(0.975,1000)) # Valor crítico\n",
    "print(n)\n",
    "print(cdfNormalIdeal)\n",
    "print(cdfEmpirical)\n",
    "print(dn) \n"
   ]
  },
  {
   "cell_type": "markdown",
   "metadata": {},
   "source": [
    "El valor $D$ obtenido es probado con una confianza de $1-\\alpha = 0.95$, que corresponde a un valor de 0.0427 de la tabla de la distribución Kolgomorov (tabla KS), podemos verificar que $D < D_{n,\\alpha}$ que, para este caso, vemos que $0.1693 < 0.0427$, por que la hipótesis nula $H_0$ que plantea que el histograma  $\\vec{h}$ ha sido generado de una distribución nomal, se  asume como cierta (no se tendría la suficiente evidencia como para demostrar lo contrario)."
   ]
  },
  {
   "cell_type": "code",
   "execution_count": null,
   "metadata": {},
   "outputs": [],
   "source": []
  }
 ],
 "metadata": {
  "colab": {
   "collapsed_sections": [],
   "name": "Tarea2_EstadisticaParaCienciaDeLosDatos.ipynb",
   "provenance": []
  },
  "kernelspec": {
   "display_name": "Python 3",
   "language": "python",
   "name": "python3"
  },
  "language_info": {
   "codemirror_mode": {
    "name": "ipython",
    "version": 3
   },
   "file_extension": ".py",
   "mimetype": "text/x-python",
   "name": "python",
   "nbconvert_exporter": "python",
   "pygments_lexer": "ipython3",
   "version": "3.9.0"
  }
 },
 "nbformat": 4,
 "nbformat_minor": 1
}
