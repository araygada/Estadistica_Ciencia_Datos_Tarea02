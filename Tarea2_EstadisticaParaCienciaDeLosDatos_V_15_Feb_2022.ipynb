{
 "cells": [
  {
   "cell_type": "markdown",
   "metadata": {
    "id": "jdtaAwa8XzNA"
   },
   "source": [
    "\n",
    "# Tecnológico de Costa Rica\n",
    "## Programa de Ciencia de Datos\n",
    "### Prof. Jorge Castro Castro\n",
    "\n",
    "### Estadística para Ciencia de los Datos 02-0871-01\n",
    "#### Tarea-2\n",
    "\n",
    "--- \n",
    "\n",
    "Entregables: Un archivo jupyter ( .IPYNB ). \n",
    "\n",
    "Modo de trabajo: Parejas:\n",
    "Estudiantes:\n",
    "\n",
    "Yu Hung Yeh Chai\n",
    "\n",
    "José Alberto Raygada Agüero\n",
    "\n",
    "---\n",
    "\n",
    "En esta asignación se busca que los estudiantes exploren un conjunto de datos y determinen qué distribución modela más efectivamente cada columna. En particular, se sugiere que los estudiantes utilicen el conjunto de datos provisto, pero queda abierto a la decisión de los estudiantes usar otros sets de datos.\n",
    "\n",
    "Deberán tomar en cuenta todas las distribuciones vistas en clase pero no deben limitarse a ellas. Se espera que haya un uso significativo de bibliotecas como `matplotlib` para mostrar visualmente la comparación entre los datos y las distribuciones propuestas.\n",
    "\n",
    "Los estudiantes deberán entregar a más tardar el día 13 de febrero a las 10:00PM un notebook de colab con la solución a los siguientes ejercicios:\n",
    "\n",
    "# Pregunta 1\n",
    "\n",
    "Elija alguna variable **cuantitativa** del set de datos y: \n",
    "  - Muestre el histograma calculado dinámicamente (e.g. con `matplotlib`) (2 puntos)\n",
    "  - Brinde al menos una propuesta de distribución candidata que modela esa columna, definiendo los parámetros de la distribución y una gráfica de la distribución paramétrica con `matplotlib` (10 puntos)\n",
    "  - Proporcione una explicación detallada de qué valores y distribuciones se probaron en el proceso y por qué se hizo la escogencia. (3 puntos)"
   ]
  },
  {
   "cell_type": "code",
   "execution_count": 5,
   "metadata": {
    "id": "d9rJ-Hekyqe9"
   },
   "outputs": [
    {
     "ename": "NameError",
     "evalue": "name '_C' is not defined",
     "output_type": "error",
     "traceback": [
      "\u001b[1;31m---------------------------------------------------------------------------\u001b[0m",
      "\u001b[1;31mNameError\u001b[0m                                 Traceback (most recent call last)",
      "\u001b[1;32m~\\AppData\\Local\\Temp/ipykernel_17448/1924941506.py\u001b[0m in \u001b[0;36m<module>\u001b[1;34m\u001b[0m\n\u001b[0;32m      4\u001b[0m \u001b[1;32mimport\u001b[0m \u001b[0mpandas\u001b[0m \u001b[1;32mas\u001b[0m \u001b[0mpd\u001b[0m\u001b[1;33m\u001b[0m\u001b[1;33m\u001b[0m\u001b[0m\n\u001b[0;32m      5\u001b[0m \u001b[1;32mimport\u001b[0m \u001b[0mscipy\u001b[0m\u001b[1;33m.\u001b[0m\u001b[0mstats\u001b[0m \u001b[1;32mas\u001b[0m \u001b[0mstats\u001b[0m\u001b[1;33m\u001b[0m\u001b[1;33m\u001b[0m\u001b[0m\n\u001b[1;32m----> 6\u001b[1;33m \u001b[1;32mimport\u001b[0m \u001b[0mtorch\u001b[0m\u001b[1;33m\u001b[0m\u001b[1;33m\u001b[0m\u001b[0m\n\u001b[0m\u001b[0;32m      7\u001b[0m \u001b[1;32mfrom\u001b[0m \u001b[0mtorch\u001b[0m\u001b[1;33m.\u001b[0m\u001b[0mdistributions\u001b[0m \u001b[1;32mimport\u001b[0m \u001b[0mExponential\u001b[0m\u001b[1;33m\u001b[0m\u001b[1;33m\u001b[0m\u001b[0m\n\u001b[0;32m      8\u001b[0m \u001b[1;32mfrom\u001b[0m \u001b[0mtorch\u001b[0m\u001b[1;33m.\u001b[0m\u001b[0mdistributions\u001b[0m \u001b[1;32mimport\u001b[0m \u001b[0mNormal\u001b[0m\u001b[1;33m\u001b[0m\u001b[1;33m\u001b[0m\u001b[0m\n",
      "\u001b[1;32m~\\Anaconda3\\lib\\site-packages\\torch\\__init__.py\u001b[0m in \u001b[0;36m<module>\u001b[1;34m\u001b[0m\n\u001b[0;32m    227\u001b[0m \u001b[1;33m\u001b[0m\u001b[0m\n\u001b[0;32m    228\u001b[0m \u001b[1;33m\u001b[0m\u001b[0m\n\u001b[1;32m--> 229\u001b[1;33m __all__ += [name for name in dir(_C)\n\u001b[0m\u001b[0;32m    230\u001b[0m             \u001b[1;32mif\u001b[0m \u001b[0mname\u001b[0m\u001b[1;33m[\u001b[0m\u001b[1;36m0\u001b[0m\u001b[1;33m]\u001b[0m \u001b[1;33m!=\u001b[0m \u001b[1;34m'_'\u001b[0m \u001b[1;32mand\u001b[0m\u001b[1;33m\u001b[0m\u001b[1;33m\u001b[0m\u001b[0m\n\u001b[0;32m    231\u001b[0m             not name.endswith('Base')]\n",
      "\u001b[1;31mNameError\u001b[0m: name '_C' is not defined"
     ]
    }
   ],
   "source": [
    "%matplotlib inline\n",
    "import matplotlib.pyplot as plt\n",
    "import numpy as np\n",
    "import pandas as pd\n",
    "import scipy.stats as stats\n",
    "import torch\n",
    "from torch.distributions import Exponential\n",
    "from torch.distributions import Normal\n",
    "from torch.distributions import Gamma\n",
    "from scipy.stats import norm\n",
    "from scipy.stats import gamma\n",
    "from scipy.stats import expon\n",
    "from scipy.stats import weibull_min\n",
    "from scipy.stats import t\n",
    "\n",
    "#Funciones\n",
    "def bold(t):\n",
    "    \"\"\"\n",
    "    Funcion para formatear en negrita el texto.\n",
    "    t = cualquier dato\n",
    "    \"\"\"\n",
    "    return \"\\033[1m\" + str(t) + \"\\033[0m\"\n",
    "\n",
    "def newline():\n",
    "    \"\"\"\n",
    "    Funcion para imprimir cambio de linea\n",
    "    \"\"\"\n",
    "    print(\"\\r\\n\")\n",
    "    \n",
    "def titulo(t):\n",
    "    \"\"\"\n",
    "    Funcion para imprimir titulo formateado.\n",
    "    t = titulo\n",
    "    \"\"\"\n",
    "    print(bold(t))\n",
    "    print(\"----------------------------------------------\")\n",
    "    newline()\n",
    "\n",
    "def imprimirVariable(nombre, valor):\n",
    "    \"\"\"\n",
    "    Funcion para imprimir titulo formateado.\n",
    "    nombre = nombre de la variable\n",
    "    valor = el varlor de la variable\n",
    "    \"\"\"\n",
    "    print(bold(nombre), \": \", valor)\n",
    "    \n",
    "def plotHistogram(data, bins, title, x, prob):\n",
    "    plt.hist(data, bins, edgecolor = 'black', linewidth=1, density=True, color='blue', alpha=0.7)\n",
    "    plt.title(title)\n",
    "    plt.plot(x, prob, color=\"r\", linewidth=2)\n",
    "\n",
    "#Función para obtener los valores de bins manualmente\n",
    "def divideEnBins(datos, cantidadBins):\n",
    "    min = np.min(datos)\n",
    "    max = np.max(datos)\n",
    "    \n",
    "    rango = max - min\n",
    "    span = rango / (cantidadBins -1)\n",
    "    \n",
    "    bins = []\n",
    "\n",
    "    for i in range(cantidadBins):\n",
    "        valor = min + span * i\n",
    "        bins.append(valor)\n",
    "\n",
    "    return bins\n",
    "\n",
    "#Función para graficar datos vs la distribución para comparar qué tanto se acerca a la distribución.\n",
    "def graficarTestDistribucion(datos, distribucion, parametros):  \n",
    "    stats.probplot(datos, dist=distribucion, sparams = parametros, plot = plt)\n",
    "    plt.show()"
   ]
  },
  {
   "cell_type": "code",
   "execution_count": 2,
   "metadata": {
    "colab": {
     "base_uri": "https://localhost:8080/",
     "height": 424
    },
    "id": "jvIxXltJyqfB",
    "outputId": "a1e54798-b56a-40e2-fa4c-52cdd30d7c9c"
   },
   "outputs": [
    {
     "data": {
      "text/html": [
       "<div>\n",
       "<style scoped>\n",
       "    .dataframe tbody tr th:only-of-type {\n",
       "        vertical-align: middle;\n",
       "    }\n",
       "\n",
       "    .dataframe tbody tr th {\n",
       "        vertical-align: top;\n",
       "    }\n",
       "\n",
       "    .dataframe thead th {\n",
       "        text-align: right;\n",
       "    }\n",
       "</style>\n",
       "<table border=\"1\" class=\"dataframe\">\n",
       "  <thead>\n",
       "    <tr style=\"text-align: right;\">\n",
       "      <th></th>\n",
       "      <th>carat</th>\n",
       "      <th>cut</th>\n",
       "      <th>color</th>\n",
       "      <th>clarity</th>\n",
       "      <th>depth</th>\n",
       "      <th>table</th>\n",
       "      <th>price</th>\n",
       "      <th>x</th>\n",
       "      <th>y</th>\n",
       "      <th>z</th>\n",
       "      <th>unknownCol</th>\n",
       "    </tr>\n",
       "  </thead>\n",
       "  <tbody>\n",
       "    <tr>\n",
       "      <th>0</th>\n",
       "      <td>0.32</td>\n",
       "      <td>Premium</td>\n",
       "      <td>J</td>\n",
       "      <td>VS2</td>\n",
       "      <td>61.9</td>\n",
       "      <td>58.0</td>\n",
       "      <td>504</td>\n",
       "      <td>4.38</td>\n",
       "      <td>4.35</td>\n",
       "      <td>2.70</td>\n",
       "      <td>5.100000</td>\n",
       "    </tr>\n",
       "    <tr>\n",
       "      <th>1</th>\n",
       "      <td>1.50</td>\n",
       "      <td>Good</td>\n",
       "      <td>F</td>\n",
       "      <td>SI2</td>\n",
       "      <td>62.9</td>\n",
       "      <td>59.0</td>\n",
       "      <td>7727</td>\n",
       "      <td>7.19</td>\n",
       "      <td>7.32</td>\n",
       "      <td>4.56</td>\n",
       "      <td>4.900000</td>\n",
       "    </tr>\n",
       "    <tr>\n",
       "      <th>2</th>\n",
       "      <td>0.38</td>\n",
       "      <td>Ideal</td>\n",
       "      <td>H</td>\n",
       "      <td>VS1</td>\n",
       "      <td>61.7</td>\n",
       "      <td>55.0</td>\n",
       "      <td>955</td>\n",
       "      <td>4.65</td>\n",
       "      <td>4.70</td>\n",
       "      <td>2.89</td>\n",
       "      <td>4.700000</td>\n",
       "    </tr>\n",
       "    <tr>\n",
       "      <th>3</th>\n",
       "      <td>0.53</td>\n",
       "      <td>Ideal</td>\n",
       "      <td>F</td>\n",
       "      <td>VVS1</td>\n",
       "      <td>62.1</td>\n",
       "      <td>53.2</td>\n",
       "      <td>2273</td>\n",
       "      <td>5.17</td>\n",
       "      <td>5.21</td>\n",
       "      <td>3.22</td>\n",
       "      <td>4.600000</td>\n",
       "    </tr>\n",
       "    <tr>\n",
       "      <th>4</th>\n",
       "      <td>0.55</td>\n",
       "      <td>Ideal</td>\n",
       "      <td>D</td>\n",
       "      <td>VS2</td>\n",
       "      <td>60.6</td>\n",
       "      <td>56.0</td>\n",
       "      <td>2224</td>\n",
       "      <td>5.30</td>\n",
       "      <td>5.36</td>\n",
       "      <td>3.23</td>\n",
       "      <td>5.000000</td>\n",
       "    </tr>\n",
       "    <tr>\n",
       "      <th>...</th>\n",
       "      <td>...</td>\n",
       "      <td>...</td>\n",
       "      <td>...</td>\n",
       "      <td>...</td>\n",
       "      <td>...</td>\n",
       "      <td>...</td>\n",
       "      <td>...</td>\n",
       "      <td>...</td>\n",
       "      <td>...</td>\n",
       "      <td>...</td>\n",
       "      <td>...</td>\n",
       "    </tr>\n",
       "    <tr>\n",
       "      <th>195</th>\n",
       "      <td>1.12</td>\n",
       "      <td>Premium</td>\n",
       "      <td>G</td>\n",
       "      <td>SI1</td>\n",
       "      <td>60.1</td>\n",
       "      <td>58.0</td>\n",
       "      <td>5233</td>\n",
       "      <td>6.78</td>\n",
       "      <td>6.83</td>\n",
       "      <td>4.09</td>\n",
       "      <td>6.763648</td>\n",
       "    </tr>\n",
       "    <tr>\n",
       "      <th>196</th>\n",
       "      <td>0.37</td>\n",
       "      <td>Ideal</td>\n",
       "      <td>D</td>\n",
       "      <td>VVS2</td>\n",
       "      <td>61.6</td>\n",
       "      <td>54.0</td>\n",
       "      <td>997</td>\n",
       "      <td>4.61</td>\n",
       "      <td>4.64</td>\n",
       "      <td>2.85</td>\n",
       "      <td>6.381457</td>\n",
       "    </tr>\n",
       "    <tr>\n",
       "      <th>197</th>\n",
       "      <td>0.30</td>\n",
       "      <td>Very Good</td>\n",
       "      <td>D</td>\n",
       "      <td>VVS2</td>\n",
       "      <td>60.6</td>\n",
       "      <td>58.0</td>\n",
       "      <td>2366</td>\n",
       "      <td>4.33</td>\n",
       "      <td>4.35</td>\n",
       "      <td>2.63</td>\n",
       "      <td>5.112152</td>\n",
       "    </tr>\n",
       "    <tr>\n",
       "      <th>198</th>\n",
       "      <td>2.18</td>\n",
       "      <td>Premium</td>\n",
       "      <td>J</td>\n",
       "      <td>VS2</td>\n",
       "      <td>60.1</td>\n",
       "      <td>58.0</td>\n",
       "      <td>15465</td>\n",
       "      <td>8.46</td>\n",
       "      <td>8.41</td>\n",
       "      <td>5.07</td>\n",
       "      <td>6.108909</td>\n",
       "    </tr>\n",
       "    <tr>\n",
       "      <th>199</th>\n",
       "      <td>0.32</td>\n",
       "      <td>Premium</td>\n",
       "      <td>I</td>\n",
       "      <td>VS2</td>\n",
       "      <td>62.2</td>\n",
       "      <td>59.0</td>\n",
       "      <td>449</td>\n",
       "      <td>4.35</td>\n",
       "      <td>4.37</td>\n",
       "      <td>2.71</td>\n",
       "      <td>5.415009</td>\n",
       "    </tr>\n",
       "  </tbody>\n",
       "</table>\n",
       "<p>200 rows × 11 columns</p>\n",
       "</div>"
      ],
      "text/plain": [
       "     carat        cut color clarity  depth  table  price     x     y     z  \\\n",
       "0     0.32    Premium     J     VS2   61.9   58.0    504  4.38  4.35  2.70   \n",
       "1     1.50       Good     F     SI2   62.9   59.0   7727  7.19  7.32  4.56   \n",
       "2     0.38      Ideal     H     VS1   61.7   55.0    955  4.65  4.70  2.89   \n",
       "3     0.53      Ideal     F    VVS1   62.1   53.2   2273  5.17  5.21  3.22   \n",
       "4     0.55      Ideal     D     VS2   60.6   56.0   2224  5.30  5.36  3.23   \n",
       "..     ...        ...   ...     ...    ...    ...    ...   ...   ...   ...   \n",
       "195   1.12    Premium     G     SI1   60.1   58.0   5233  6.78  6.83  4.09   \n",
       "196   0.37      Ideal     D    VVS2   61.6   54.0    997  4.61  4.64  2.85   \n",
       "197   0.30  Very Good     D    VVS2   60.6   58.0   2366  4.33  4.35  2.63   \n",
       "198   2.18    Premium     J     VS2   60.1   58.0  15465  8.46  8.41  5.07   \n",
       "199   0.32    Premium     I     VS2   62.2   59.0    449  4.35  4.37  2.71   \n",
       "\n",
       "     unknownCol  \n",
       "0      5.100000  \n",
       "1      4.900000  \n",
       "2      4.700000  \n",
       "3      4.600000  \n",
       "4      5.000000  \n",
       "..          ...  \n",
       "195    6.763648  \n",
       "196    6.381457  \n",
       "197    5.112152  \n",
       "198    6.108909  \n",
       "199    5.415009  \n",
       "\n",
       "[200 rows x 11 columns]"
      ]
     },
     "execution_count": 2,
     "metadata": {},
     "output_type": "execute_result"
    }
   ],
   "source": [
    "df = pd.read_csv(r'datasetTarea2.csv')\n",
    "df = pd.DataFrame(data=df)\n",
    "df"
   ]
  },
  {
   "cell_type": "code",
   "execution_count": 3,
   "metadata": {
    "id": "65swznhByqfD"
   },
   "outputs": [],
   "source": [
    "# Análisis de los histogramas de las diferentes variables y propuestas de distribuciones\n",
    "\n",
    "n_bins = 9"
   ]
  },
  {
   "cell_type": "markdown",
   "metadata": {
    "id": "PHi1C_09yqfD"
   },
   "source": [
    "## Análisis de la variable 'carat'\n",
    "\n",
    "### Comparación con la distribución:\n",
    "#### Gamma\n",
    "La distribución Gamma es adecuada para modelar el comportamiento de variables aleatorias continuas con asimétrica positiva, es decir, variables que presentan una mayor probabilidad de ocurrencia de eventos a la izquierda de la media que a la derecha.\n",
    "\n",
    "Parpametros:\n",
    "$\\alpha$ (shape) es un *parámetro de forma* y $\\beta$ (scale) es un *parámetro de escala*."
   ]
  },
  {
   "cell_type": "code",
   "execution_count": null,
   "metadata": {
    "colab": {
     "base_uri": "https://localhost:8080/",
     "height": 281
    },
    "id": "HPs-fj9HyqfE",
    "outputId": "03522388-fa86-42f8-b06b-5a6d43bdac87"
   },
   "outputs": [],
   "source": [
    "# Histograma de los datos de la columna 'carat'\n",
    "\n",
    "carat = df['carat']\n",
    "\n",
    "# Comparación con la distribución Gamma\n",
    "\n",
    "shape = 3\n",
    "scale = 0.2\n",
    "gamma = stats.gamma(a=shape,scale=scale)\n",
    "x = np.linspace(gamma.ppf(0.01),\n",
    "                gamma.ppf(0.99), 100)\n",
    "fp = gamma.pdf(x) # Función de Probabilidad\n",
    "\n",
    "plotHistogram(carat, n_bins, 'Histograma variable Carat vs dist. Gamma', x, fp)"
   ]
  },
  {
   "cell_type": "markdown",
   "metadata": {
    "id": "xU6ANmfJyqfF"
   },
   "source": [
    "### Comparación con la distribución:\n",
    "#### Exponencial\n",
    "La distribución exponencial es utilizada para determinar la probabilidad de que en cierto tiempo suceda un determinado evento.\n",
    "\n",
    "Parámetro:\n",
    "\n",
    "Lambda:  $\\lambda$ es el inverso de la duración esperada entre eventos y representa un parámetro de intensidad del proceso."
   ]
  },
  {
   "cell_type": "code",
   "execution_count": null,
   "metadata": {
    "colab": {
     "base_uri": "https://localhost:8080/",
     "height": 281
    },
    "id": "wVmljMYmyqfF",
    "outputId": "0a2caeef-3891-48b3-9e3e-b012589b72f7"
   },
   "outputs": [],
   "source": [
    "# Comparación con la distribución Exponencial\n",
    "\n",
    "#distribución exponencial, estimando lambda en función del promedio\n",
    "mean = pd.Series.mean(carat)\n",
    "n = len(carat)\n",
    "lambdaValue = mean #1.4 #0.78845\n",
    "\n",
    "exponencial = stats.expon(scale=lambdaValue)\n",
    "x = np.linspace(exponencial.ppf(0.01),\n",
    "                exponencial.ppf(0.99), n)\n",
    "fp = exponencial.pdf(x) # Función de Probabilidad\n",
    "\n",
    "plotHistogram(carat, n_bins, 'Histograma variable Carat vs dist. Exponencial', x, fp)"
   ]
  },
  {
   "cell_type": "markdown",
   "metadata": {
    "id": "TMcXZnhxyqfG"
   },
   "source": [
    "### Conclusión\n",
    "\n",
    "Se puede notar que el histograma tiene una tendencia decreciente.  Las distribuciones que más se parecen son: exponencial y \n",
    "gamma, sin embargo la que mejor lo representa es la distribución exponencial. "
   ]
  },
  {
   "cell_type": "markdown",
   "metadata": {
    "id": "2JsNRExNyqfH"
   },
   "source": [
    "# Pregunta 2\n",
    "\n",
    "Seleccione 3 columnas adicionales (también cuantitativas) y realize el mismo proceso del punto 2 (45 puntos)\n",
    " - Histograma (2 puntos)\n",
    " - Parámetros y gráfica (10 puntos)\n",
    " - Justificación (3 puntos)"
   ]
  },
  {
   "cell_type": "markdown",
   "metadata": {
    "id": "iQi4LSh6yqfI"
   },
   "source": [
    "## Análisis de la variable 'depth'\n",
    "\n",
    "### Comparación con la distribución:\n",
    "#### Normal\n",
    "\n",
    "La distribución normal es una distribución continua que está determinada por la media μ y la desviación estándar σ. La media es el centro de la curva con forma de campana y la desviación estándar corresponde a la extensión de la distribución.\n",
    "\n",
    "Parámetro:\n",
    "\n",
    "Media μ y la desviación estándar σ"
   ]
  },
  {
   "cell_type": "code",
   "execution_count": null,
   "metadata": {
    "colab": {
     "base_uri": "https://localhost:8080/",
     "height": 281
    },
    "id": "OJSepCaxyqfI",
    "outputId": "d339066e-a878-4611-aa18-d9b33e23cdd2"
   },
   "outputs": [],
   "source": [
    "# Histograma de los datos de depth\n",
    "\n",
    "# Comparación con la distribución normal\n",
    "\n",
    "# Histograma de los datos de depth\n",
    "\n",
    "depth = df['depth']\n",
    "\n",
    "my_mean = pd.Series.mean(depth)\n",
    "standev = pd.Series.std(depth)\n",
    "min = np.min(depth)\n",
    "max = np.max(depth)\n",
    "n = len(depth)\n",
    "x = np.linspace(min, max, n)\n",
    "\n",
    "plotHistogram(depth, n_bins, 'Histograma variable Depth vs Distribución Normal', x, norm.pdf(x, my_mean, standev))"
   ]
  },
  {
   "cell_type": "markdown",
   "metadata": {
    "id": "zRvXl7RHyqfJ"
   },
   "source": [
    "### Conclusión\n",
    "\n",
    "Se puede notar que el histograma tiene una distribución normal porque una campana de Gauss.  Otra distribución que podría modelar dicha variable es t-student, sin embargo la distribución normal está muy bien."
   ]
  },
  {
   "cell_type": "markdown",
   "metadata": {
    "id": "rWA5V5BXyqfJ"
   },
   "source": [
    "## Análisis de la variable 'table'\n",
    "\n",
    "### Comparación con la distribución:\n",
    "#### Gamma\n",
    "\n",
    "La distribución Gamma es adecuada para modelar el comportamiento de variables aleatorias continuas con asimétrica positiva, es decir, variables que presentan una mayor probabilidad de ocurrencia de eventos a la izquierda de la media que a la derecha.\n",
    "\n",
    "Parpametros:\n",
    "$\\alpha$ (shape) es un *parámetro de forma* y $\\beta$ (scale) es un *parámetro de escala*."
   ]
  },
  {
   "cell_type": "code",
   "execution_count": null,
   "metadata": {
    "colab": {
     "base_uri": "https://localhost:8080/",
     "height": 281
    },
    "id": "DeHCyOpUyqfJ",
    "outputId": "4f84492c-1d83-480a-945f-32b05d9908df"
   },
   "outputs": [],
   "source": [
    "# Histograma de los datos de la variable table\n",
    "\n",
    "table = df['table']\n",
    "\n",
    "# Comparación con la distribución Gamma\n",
    "\n",
    "shape = 635\n",
    "scale = 0.09\n",
    "\n",
    "gamma = stats.gamma(a=shape,scale=scale)\n",
    "x = np.linspace(gamma.ppf(0.01),\n",
    "                gamma.ppf(0.99), 100)\n",
    "fp = gamma.pdf(x) # Función de Probabilidad\n",
    "\n",
    "plotHistogram(table, n_bins, 'Histograma variable Table vs dist. Gamma', x, fp)"
   ]
  },
  {
   "cell_type": "markdown",
   "metadata": {
    "id": "RcILiMU3yqfK"
   },
   "source": [
    "### Comparación con la distribución:\n",
    "#### Weibull\n",
    "\n",
    "La distribución Weibull es ampliamente utilizada en la práctica de la ingeniería para modelar la vida útil de un sistema complejo conformado por varias partes que falla cuando la primera de ellas se daña. Weibull ha sido aplicada a la resolución de problemas en las áreas de la altura de mareas, eficacia de tratamientos médicos, reclamos de seguros, mantenimiento de alumbrado público, explosión de rocas y planificación de repuestos. \n",
    "\n",
    "Parámetros:\n",
    "\n",
    "Esta distribución incluye dos parámetros principales: Scale (s) > 0 y Shape ($\\beta$); en algunos casos se incluye un tercer parámetro denominado Location (L). En nuestro análisis utilizaremos la versión con los dos primeros parámetros: Scale y Shape."
   ]
  },
  {
   "cell_type": "code",
   "execution_count": null,
   "metadata": {
    "id": "Ol1txXObyqfK"
   },
   "outputs": [],
   "source": [
    "# Variable Table\n",
    "# Comparación con la distribución Weibull\n",
    "\n",
    "#distribución exponencial, estimando lambda en función del promedio\n",
    "mean = pd.Series.mean(table)\n",
    "min = np.min(table)\n",
    "max = np.max(table)\n",
    "lambdaValue = 500\n",
    "shape = 23\n",
    "scale = 58\n",
    "\n",
    "x = np.linspace(min, max, 200)    \n",
    "p = weibull_min.pdf(x, shape, scale=scale)\n",
    "\n",
    "plotHistogram(table, n_bins, 'Histograma variable Table vs dist. Weibull', x, p)"
   ]
  },
  {
   "cell_type": "markdown",
   "metadata": {
    "id": "_bvBB3HlyqfL"
   },
   "source": [
    "### Conclusión\n",
    "\n",
    "Se comparó con la distribución Gamma y Weibull.  Escogemos la distribución Gamma, porque se puede observar que el histograma tiene una forma de campana no centrada, teniendo un mayor ocurrencia en el lado izquierdo que el derecho."
   ]
  },
  {
   "cell_type": "markdown",
   "metadata": {
    "id": "mQ0Q2XhmyqfL"
   },
   "source": [
    "## Análisis de la variable 'price'\n",
    "\n",
    "### Comparación con la distribución:\n",
    "#### Exponencial\n",
    "La distribución exponencial es utilizada para determinar la probabilidad de que en cierto tiempo suceda un determinado evento.\n",
    "\n",
    "Parámetro:\n",
    "\n",
    "Lambda:  $\\lambda$ es el inverso de la duración esperada entre eventos y representa un parámetro de intensidad del proceso."
   ]
  },
  {
   "cell_type": "code",
   "execution_count": null,
   "metadata": {
    "colab": {
     "base_uri": "https://localhost:8080/",
     "height": 281
    },
    "id": "0COzBGiwyqfL",
    "outputId": "24c9fea9-4740-42a6-8f20-c13661f820d6"
   },
   "outputs": [],
   "source": [
    "# Histograma de los datos de price\n",
    "\n",
    "prices = df['price']\n",
    "\n",
    "# Comparación con la distribución Exponencial\n",
    "\n",
    "#distribución exponencial, estimando lambda en función del promedio\n",
    "mean = pd.Series.mean(prices)\n",
    "lambdaValue = 3800\n",
    "\n",
    "exponencial = stats.expon(scale=lambdaValue)\n",
    "x= np.linspace(exponencial.ppf(0.01),\n",
    "                exponencial.ppf(0.99), 100)\n",
    "fp = exponencial.pdf(x) # Función de Probabilidad\n",
    "\n",
    "plotHistogram(prices, n_bins, 'Histograma variable Prices vs dist. Exponencial', x, fp)"
   ]
  },
  {
   "cell_type": "markdown",
   "metadata": {
    "id": "gLz1KMRlyqfM"
   },
   "source": [
    "### Comparación con la distribución:\n",
    "#### Weibull\n",
    "La distribución Weibull es ampliamente utilizada en la práctica de la ingeniería para modelar la vida útil de un sistema complejo conformado por varias partes que falla cuando la primera de ellas se daña. Weibull ha sido aplicada a la resolución de problemas en las áreas de la altura de mareas, eficacia de tratamientos médicos, reclamos de seguros, mantenimiento de alumbrado público, explosión de rocas y planificación de repuestos. \n",
    "\n",
    "Parámetros:\n",
    "\n",
    "Esta distribución incluye dos parámetros principales: Scale (s) > 0 y Shape ($\\beta$); en algunos casos se incluye un tercer parámetro denominado Location (L). En nuestro análisis utilizaremos la versión con los dos primeros parámetros."
   ]
  },
  {
   "cell_type": "code",
   "execution_count": null,
   "metadata": {
    "colab": {
     "base_uri": "https://localhost:8080/",
     "height": 281
    },
    "id": "PdSERzouyqfM",
    "outputId": "ae0bade9-585c-47f7-ceed-e6d2b53b0c37"
   },
   "outputs": [],
   "source": [
    "# Comparación con la distribución Exponencial\n",
    "\n",
    "#distribución exponencial, estimando lambda en función del promedio\n",
    "mean = pd.Series.mean(prices)\n",
    "min = np.min(prices)\n",
    "max = np.max(prices)\n",
    "lambdaValue = 500\n",
    "shape = 1.05208\n",
    "scale = 3836.41566\n",
    "\n",
    "x = np.linspace(min, max, 200)    \n",
    "p = weibull_min.pdf(x, shape, scale=scale)\n",
    "\n",
    "plotHistogram(prices, n_bins, 'Histograma variable Price vs dist. Weibull', x, p)"
   ]
  },
  {
   "cell_type": "markdown",
   "metadata": {
    "id": "JYxBePuOyqfM"
   },
   "source": [
    "### Conclusión\n",
    "\n",
    "Se comparó con la distribución Exponencial y Weibull.  Escogemos la distribución exponencial, porque se puede observar que el histograma tiene una tendencia decreciente."
   ]
  },
  {
   "cell_type": "markdown",
   "metadata": {
    "id": "CctTpfVUyqfN"
   },
   "source": [
    "# Pregunta 3\n",
    "\n",
    "Para cada columna aplicar una prueba KS  con un $\\alpha=0.05$ para determinar si la muestra en efecto sigue la misma distribución que los estudiantes plantean. Si bien es cierto en clase se abordó la prueba KS para pruebas de normalidad, estas también se pueden utilizar para cualquier otro tipo de distribución\n",
    " - 4 columnas x 10 puntos cada una (40 puntos)\n",
    " - Debe mostrarse suficiente detalle gráfico y aritmético en su respuesta"
   ]
  },
  {
   "cell_type": "code",
   "execution_count": null,
   "metadata": {
    "colab": {
     "base_uri": "https://localhost:8080/",
     "height": 607
    },
    "id": "3IvGHohfyqfN",
    "outputId": "0ce26435-3b9b-40ca-8df6-69fe93496b36"
   },
   "outputs": [],
   "source": [
    "# Prueba KS con variable carat vs dist. Exponencial\n",
    "\n",
    "histogram, histogramX = np.histogram(carat, bins=n_bins)\n",
    "histogram = torch.tensor(histogram)\n",
    "\n",
    "#number of observations\n",
    "n = histogram.sum()\n",
    "imprimirVariable(\"Histogram\", histogram)\n",
    "histogramExp = histogram / n        #Exp factor for mean\n",
    "\n",
    "histogramX = divideEnBins(carat, n_bins)\n",
    "histogramX = torch.tensor(histogramX)\n",
    "print(histogramX)\n",
    "imprimirVariable(\"Histogram X\", histogramX)\n",
    "\n",
    "#newline()\n",
    "\n",
    "histogramExp2 = histogram / (n - 1) #Norm factor for std\n",
    "\n",
    "#calculate cumulative sum\n",
    "cdfEmpirical = torch.cumsum(histogramExp, dim = 0)\n",
    "\n",
    "#get sample stats\n",
    "# meanHist = (histogramX * histogramExp).sum()\n",
    "# stdHist = torch.sqrt((histogramExp2 * (histogramX - meanHist) ** 2).sum())\n",
    "mean = pd.Series.mean(carat)\n",
    "lambdaValue = mean \n",
    "\n",
    "meanHist = 1 / lambdaValue\n",
    "stdHist = 1 / lambdaValue\n",
    "\n",
    "#Create ideal CDF\n",
    "exponentialDensity = Exponential(meanHist, stdHist)\n",
    "cdfExponencialIdeal = exponentialDensity.cdf(histogramX) #points used to evaluate cdf\n",
    "\n",
    "newline()\n",
    "\n",
    "#Compare the empirical and ideal distributions\n",
    "difference = torch.abs(cdfExponencialIdeal - cdfEmpirical)\n",
    "imprimirVariable(\"Diferencia\", difference)\n",
    "dn = torch.max(difference)\n",
    "\n",
    "newline()\n",
    "\n",
    "imprimirVariable(\"Exponential Density\", exponentialDensity)\n",
    "imprimirVariable(\"N\", n)\n",
    "\n",
    "newline()\n",
    "\n",
    "imprimirVariable(\"CDF Exponencial Ideal\", cdfExponencialIdeal)\n",
    "imprimirVariable(\"CDF Empírico\", cdfEmpirical)\n",
    "\n",
    "newline()\n",
    "\n",
    "valorCritico = stats.ksone.ppf(0.975,1000)\n",
    "imprimirVariable(\"Valor Crítico\", stats.ksone.ppf(0.975,1000)) # Valor crítico\n",
    "imprimirVariable(\"D\", dn)\n",
    "\n",
    "graficarTestDistribucion(depth, \"expon\", stats.expon.fit(carat))"
   ]
  },
  {
   "cell_type": "markdown",
   "metadata": {
    "id": "QlEWaeVGyqfN"
   },
   "source": [
    "## Prueba KS para la variable 'carat'\n",
    "\n",
    "### Distribución Exponencial"
   ]
  },
  {
   "cell_type": "markdown",
   "metadata": {
    "id": "OqNDYJcayqfO"
   },
   "source": [
    "El valor $D$ obtenido es probado con una confianza de $1-\\alpha = 0.95$, que corresponde a un valor de 0.0427 de la tabla de la distribución Kolgomorov (tabla KS), podemos verificar que $D < D_{n,\\alpha}$ que, para este caso, vemos que $0.6600 < 0.0427$, por que la hipótesis nula $H_0$ que plantea que el histograma  $\\vec{h}$ ha sido generado de una distribución exponencial, se  asume como cierta (no se tendría la suficiente evidencia como para demostrar lo contrario).  Adicionalmente en la grafica de probabilidades de distribución exponencial se nota que los datos (puntos azules) se apega mucho a la linea roja (distribución)."
   ]
  },
  {
   "cell_type": "markdown",
   "metadata": {
    "id": "cJ10lrMiyqfO"
   },
   "source": [
    "## Prueba KS para la variable 'depth'\n",
    "\n",
    "### Distribución Normal"
   ]
  },
  {
   "cell_type": "code",
   "execution_count": null,
   "metadata": {
    "colab": {
     "base_uri": "https://localhost:8080/",
     "height": 607
    },
    "id": "uN1VeIfCyqfO",
    "outputId": "c61e8cb2-b08e-47fd-ea03-ab5524d179f2"
   },
   "outputs": [],
   "source": [
    "# Prueba KS con variable depth vs dist. Normal\n",
    "\n",
    "histogram, histogramX = np.histogram(depth, bins=n_bins)\n",
    "histogram = torch.tensor(histogram)\n",
    "\n",
    "#number of observations\n",
    "n = histogram.sum()\n",
    "imprimirVariable(\"Histogram\", histogram)\n",
    "histogramNorm = histogram / n        #Norm factor for mean\n",
    "\n",
    "histogramX = divideEnBins(depth, n_bins)\n",
    "histogramX = torch.tensor(histogramX)\n",
    "imprimirVariable(\"Histogram X\", histogramX)\n",
    "\n",
    "#newline()\n",
    "\n",
    "histogramNorm2 = histogram / (n - 1) #Norm factor for std\n",
    "\n",
    "#calculate cumulative sum\n",
    "cdfEmpirical = torch.cumsum(histogramNorm, dim = 0)\n",
    "\n",
    "#get sample stats\n",
    "meanHist = (histogramX * histogramNorm).sum()\n",
    "stdHist = torch.sqrt((histogramNorm2 * (histogramX - meanHist) ** 2).sum())\n",
    "\n",
    "#Create ideal CDF\n",
    "normalDensity = Normal(meanHist, stdHist)\n",
    "cdfNormalIdeal = normalDensity.cdf(histogramX) #points used to evaluate cdf\n",
    "\n",
    "newline()\n",
    "\n",
    "#Compare the empirical and ideal distributions\n",
    "difference = torch.abs(cdfNormalIdeal - cdfEmpirical)\n",
    "imprimirVariable(\"Diferencia\", difference)\n",
    "dn = torch.max(difference)\n",
    "\n",
    "newline()\n",
    "\n",
    "imprimirVariable(\"Normal Density\", normalDensity)\n",
    "imprimirVariable(\"N\", n)\n",
    "\n",
    "newline()\n",
    "\n",
    "imprimirVariable(\"CDF Normal Ideal\", cdfNormalIdeal)\n",
    "imprimirVariable(\"CDF Empírico\", cdfEmpirical)\n",
    "\n",
    "newline()\n",
    "\n",
    "imprimirVariable(\"Valor Crítico\", valorCritico) # Valor crítico\n",
    "imprimirVariable(\"D\", dn)\n",
    "\n",
    "graficarTestDistribucion(depth, \"norm\", (np.mean(depth), np.std(depth)))"
   ]
  },
  {
   "cell_type": "markdown",
   "metadata": {
    "id": "o-ZFvlwxyqfP"
   },
   "source": [
    "El valor $D$ obtenido es probado con una confianza de $1-\\alpha = 0.95$, que corresponde a un valor de 0.0427 de la tabla de la distribución Kolgomorov (tabla KS), podemos verificar que $D < D_{n,\\alpha}$ que, para este caso, vemos que $0.1693 < 0.0427$, por que la hipótesis nula $H_0$ que plantea que el histograma  $\\vec{h}$ ha sido generado de una distribución normal, se  asume como cierta (no se tendría la suficiente evidencia como para demostrar lo contrario).  Adicionalmente en la grafica de probabilidades de distribución normal se nota que los datos (puntos azules) se apega mucho a la linea roja (distribución)."
   ]
  },
  {
   "cell_type": "markdown",
   "metadata": {
    "id": "6KPkEc0oyqfP"
   },
   "source": [
    "## Prueba KS para la variable 'table'\n",
    "\n",
    "### Distribución Gamma"
   ]
  },
  {
   "cell_type": "code",
   "execution_count": null,
   "metadata": {
    "colab": {
     "base_uri": "https://localhost:8080/",
     "height": 287
    },
    "id": "Zkt9LM1nyqfQ",
    "outputId": "adb7664d-80ed-4ef2-b872-a30e71939393"
   },
   "outputs": [],
   "source": [
    "# Prueba KS con variable depth vs dist. Gamma\n",
    "\n",
    "histogram, histogramX = np.histogram(table, bins=n_bins)\n",
    "histogram = torch.tensor(histogram)\n",
    "\n",
    "#number of observations\n",
    "n = histogram.sum()\n",
    "imprimirVariable(\"Histogram\", histogram)\n",
    "histogramGamma = histogram / n        #Gamma factor for mean\n",
    "\n",
    "histogramX = divideEnBins(table, n_bins)\n",
    "histogramX = torch.tensor(histogramX)\n",
    "imprimirVariable(\"Histogram X\", histogramX)\n",
    "\n",
    "#newline()\n",
    "\n",
    "histogramGamma2 = histogram / (n - 1) #Gamma factor for std\n",
    "\n",
    "#calculate cumulative sum\n",
    "cdfEmpirical = torch.cumsum(histogramGamma, dim = 0)\n",
    "\n",
    "#get sample stats\n",
    "meanHist = (histogramX * histogramGamma).sum()\n",
    "stdHist = torch.sqrt((histogramGamma2 * (histogramX - meanHist) ** 2).sum())\n",
    "\n",
    "#Create ideal CDF\n",
    "#gammaDensity = Gamma(meanHist, stdHist)\n",
    "#cdfGammaIdeal = gammaDensity.cdf(histogramX) #points used to evaluate cdf\n",
    "cdfGammaIdeal = torch.tensor(gamma.cdf(histogramX, valorCritico))\n",
    "imprimirVariable(\"CDF Gamma Ideal\", cdfGammaIdeal)\n",
    "\n",
    "newline()\n",
    "\n",
    "#Compare the empirical and ideal distributions\n",
    "difference = torch.abs(cdfGammaIdeal - cdfEmpirical)\n",
    "imprimirVariable(\"Diferencia\", difference)\n",
    "dn = torch.max(difference)\n",
    "\n",
    "newline()\n",
    "\n",
    "imprimirVariable(\"Gamma Density\", gammaDensity)\n",
    "imprimirVariable(\"N\", n)\n",
    "\n",
    "newline()\n",
    "\n",
    "imprimirVariable(\"CDF Gamma Ideal\", cdfGammaIdeal)\n",
    "imprimirVariable(\"CDF Empírico\", cdfEmpirical)\n",
    "\n",
    "newline()\n",
    "\n",
    "imprimirVariable(\"Valor Crítico\", valorCritico) # Valor crítico\n",
    "imprimirVariable(\"D\", dn)\n",
    "\n",
    "graficarTestDistribucion(depth, \"gamma\", stats.gamma.fit(carat))"
   ]
  },
  {
   "cell_type": "markdown",
   "metadata": {
    "id": "MrYT5lEcyqfQ"
   },
   "source": [
    "El valor $D$ obtenido es probado con una confianza de $1-\\alpha = 0.95$, que corresponde a un valor de 0.0427 de la tabla de la distribución Kolgomorov (tabla KS), podemos verificar que $D < D_{n,\\alpha}$ que, para este caso, vemos que $0.8950 < 0.0427$, por que la hipótesis nula $H_0$ que plantea que el histograma  $\\vec{h}$ ha sido generado de una distribución gamma, se  asume como cierta (no se tendría la suficiente evidencia como para demostrar lo contrario).  Adicionalmente en la grafica de probabilidades de distribución normal se nota que los datos (puntos azules) se apega mucho a la linea roja (distribución)."
   ]
  },
  {
   "cell_type": "markdown",
   "metadata": {
    "id": "KVnIP5SdyqfQ"
   },
   "source": [
    "## Prueba KS para la variable 'price'\n",
    "\n",
    "### Distribución Exponencial"
   ]
  },
  {
   "cell_type": "code",
   "execution_count": null,
   "metadata": {
    "id": "Q-5tpVIAyqfR"
   },
   "outputs": [],
   "source": [
    "# Prueba KS con variable price vs dist. Exponencial\n",
    "\n",
    "histogram, histogramX = np.histogram(prices, bins=n_bins)\n",
    "histogram = torch.tensor(histogram)\n",
    "\n",
    "#number of observations\n",
    "n = histogram.sum()\n",
    "imprimirVariable(\"Histogram\", histogram)\n",
    "histogramExp = histogram / n        #Exp factor for mean\n",
    "\n",
    "histogramX = divideEnBins(prices, n_bins)\n",
    "histogramX = torch.tensor(histogramX)\n",
    "imprimirVariable(\"Histogram X\", histogramX)\n",
    "\n",
    "#newline()\n",
    "\n",
    "histogramExp2 = histogram / (n - 1) #Norm factor for std\n",
    "\n",
    "#calculate cumulative sum\n",
    "cdfEmpirical = torch.cumsum(histogramExp, dim = 0)\n",
    "\n",
    "#get sample stats\n",
    "meanHist = (histogramX * histogramExp).sum()\n",
    "stdHist = torch.sqrt((histogramExp2 * (histogramX - meanHist) ** 2).sum())\n",
    "\n",
    "#Create ideal CDF\n",
    "exponentialDensity = Exponential(meanHist, stdHist)\n",
    "cdfExponencialIdeal = exponentialDensity.cdf(histogramX) #points used to evaluate cdf\n",
    "\n",
    "newline()\n",
    "\n",
    "#Compare the empirical and ideal distributions\n",
    "difference = torch.abs(cdfExponencialIdeal - cdfEmpirical)\n",
    "imprimirVariable(\"Diferencia\", difference)\n",
    "dn = torch.max(difference)\n",
    "\n",
    "newline()\n",
    "\n",
    "imprimirVariable(\"Exponential Density\", exponentialDensity)\n",
    "imprimirVariable(\"N\", n)\n",
    "\n",
    "newline()\n",
    "\n",
    "imprimirVariable(\"CDF Exponencial Ideal\", cdfExponencialIdeal)\n",
    "imprimirVariable(\"CDF Empírico\", cdfEmpirical)\n",
    "\n",
    "newline()\n",
    "\n",
    "valorCritico = stats.ksone.ppf(0.975,1000)\n",
    "imprimirVariable(\"Valor Crítico\", stats.ksone.ppf(0.975,1000)) # Valor crítico\n",
    "imprimirVariable(\"D\", dn)\n",
    "\n",
    "graficarTestDistribucion(depth, \"expon\", stats.expon.fit(carat))"
   ]
  },
  {
   "cell_type": "markdown",
   "metadata": {
    "id": "KRS3rtn3yqfR"
   },
   "source": [
    "El valor $D$ obtenido es probado con una confianza de $1-\\alpha = 0.95$, que corresponde a un valor de 0.0427 de la tabla de la distribución Kolgomorov (tabla KS), podemos verificar que $D < D_{n,\\alpha}$ que, para este caso, vemos que $0.5100 < 0.0427$, por que la hipótesis nula $H_0$ que plantea que el histograma  $\\vec{h}$ ha sido generado de una distribución exponencial, se  asume como cierta (no se tendría la suficiente evidencia como para demostrar lo contrario).  Adicionalmente en la grafica de probabilidades de distribución exponencial se nota que los datos (puntos azules) se apega mucho a la linea roja (distribución)."
   ]
  },
  {
   "cell_type": "code",
   "execution_count": null,
   "metadata": {
    "id": "yQgyGJG6yqfR"
   },
   "outputs": [],
   "source": []
  }
 ],
 "metadata": {
  "colab": {
   "collapsed_sections": [],
   "name": "Tarea2_EstadisticaParaCienciaDeLosDatos - V 13-Feb-2022 6 45.ipynb",
   "provenance": []
  },
  "kernelspec": {
   "display_name": "Python 3 (ipykernel)",
   "language": "python",
   "name": "python3"
  },
  "language_info": {
   "codemirror_mode": {
    "name": "ipython",
    "version": 3
   },
   "file_extension": ".py",
   "mimetype": "text/x-python",
   "name": "python",
   "nbconvert_exporter": "python",
   "pygments_lexer": "ipython3",
   "version": "3.9.7"
  }
 },
 "nbformat": 4,
 "nbformat_minor": 1
}
