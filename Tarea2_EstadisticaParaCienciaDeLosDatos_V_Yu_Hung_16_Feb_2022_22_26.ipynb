{
 "cells": [
  {
   "cell_type": "markdown",
   "metadata": {
    "id": "jdtaAwa8XzNA"
   },
   "source": [
    "\n",
    "# Tecnológico de Costa Rica\n",
    "## Programa de Ciencia de Datos\n",
    "### Prof. Jorge Castro Castro\n",
    "\n",
    "### Estadística para Ciencia de los Datos 02-0871-01\n",
    "#### Tarea-2\n",
    "\n",
    "--- \n",
    "\n",
    "Entregables: Un archivo jupyter ( .IPYNB ). \n",
    "\n",
    "Modo de trabajo: Parejas:\n",
    "Estudiantes:\n",
    "\n",
    "Yu Hung Yeh Chai\n",
    "\n",
    "José Alberto Raygada Agüero\n",
    "\n",
    "---\n",
    "\n",
    "En esta asignación se busca que los estudiantes exploren un conjunto de datos y determinen qué distribución modela más efectivamente cada columna. En particular, se sugiere que los estudiantes utilicen el conjunto de datos provisto, pero queda abierto a la decisión de los estudiantes usar otros sets de datos.\n",
    "\n",
    "Deberán tomar en cuenta todas las distribuciones vistas en clase pero no deben limitarse a ellas. Se espera que haya un uso significativo de bibliotecas como `matplotlib` para mostrar visualmente la comparación entre los datos y las distribuciones propuestas.\n",
    "\n",
    "Los estudiantes deberán entregar a más tardar el día 13 de febrero a las 10:00PM un notebook de colab con la solución a los siguientes ejercicios:\n",
    "\n",
    "# Pregunta 1\n",
    "\n",
    "Elija alguna variable **cuantitativa** del set de datos y: \n",
    "  - Muestre el histograma calculado dinámicamente (e.g. con `matplotlib`) (2 puntos)\n",
    "  - Brinde al menos una propuesta de distribución candidata que modela esa columna, definiendo los parámetros de la distribución y una gráfica de la distribución paramétrica con `matplotlib` (10 puntos)\n",
    "  - Proporcione una explicación detallada de qué valores y distribuciones se probaron en el proceso y por qué se hizo la escogencia. (3 puntos)"
   ]
  },
  {
   "cell_type": "code",
   "execution_count": 17,
   "metadata": {
    "id": "d9rJ-Hekyqe9"
   },
   "outputs": [],
   "source": [
    "%matplotlib inline\n",
    "import matplotlib.pyplot as plt\n",
    "import numpy as np\n",
    "import pandas as pd\n",
    "import scipy.stats as stats\n",
    "import torch\n",
    "from torch.distributions import Exponential\n",
    "from torch.distributions import Normal\n",
    "from torch.distributions import Gamma\n",
    "from scipy.stats import norm\n",
    "from scipy.stats import gamma\n",
    "from scipy.stats import expon\n",
    "from scipy.stats import weibull_min\n",
    "from scipy.stats import t\n",
    "from scipy.stats import ksone\n",
    "\n",
    "#Funciones\n",
    "def bold(t):\n",
    "    \"\"\"\n",
    "    Funcion para formatear en negrita el texto.\n",
    "    t = cualquier dato\n",
    "    \"\"\"\n",
    "    return \"\\033[1m\" + str(t) + \"\\033[0m\"\n",
    "\n",
    "def newline():\n",
    "    \"\"\"\n",
    "    Funcion para imprimir cambio de linea\n",
    "    \"\"\"\n",
    "    print(\"\\r\\n\")\n",
    "    \n",
    "def titulo(t):\n",
    "    \"\"\"\n",
    "    Funcion para imprimir titulo formateado.\n",
    "    t = titulo\n",
    "    \"\"\"\n",
    "    print(bold(t))\n",
    "    print(\"----------------------------------------------\")\n",
    "    newline()\n",
    "\n",
    "def imprimirVariable(nombre, valor):\n",
    "    \"\"\"\n",
    "    Funcion para imprimir titulo formateado.\n",
    "    nombre = nombre de la variable\n",
    "    valor = el varlor de la variable\n",
    "    \"\"\"\n",
    "    print(bold(nombre), \": \", valor)\n",
    "    \n",
    "def plotHistogram(data, bins, title, x, prob):\n",
    "    plt.hist(data, bins, edgecolor = 'black', linewidth=1, density=True, color='blue', alpha=0.7)\n",
    "    plt.title(title)\n",
    "    plt.plot(x, prob, color=\"r\", linewidth=2)\n",
    "\n",
    "#Función para obtener los valores de bins manualmente\n",
    "def divideEnBins(datos, cantidadBins):\n",
    "    min = np.min(datos)\n",
    "    max = np.max(datos)\n",
    "    \n",
    "    rango = max - min\n",
    "    span = rango / (cantidadBins -1)\n",
    "    \n",
    "    bins = []\n",
    "\n",
    "    for i in range(cantidadBins):\n",
    "        valor = min + span * i\n",
    "        bins.append(valor)\n",
    "\n",
    "    return bins\n",
    "\n",
    "#Función para graficar datos vs la distribución para comparar qué tanto se acerca a la distribución.\n",
    "def graficarTestDistribucion(datos, distribucion, parametros):  \n",
    "    stats.probplot(datos, dist=distribucion, sparams = parametros, plot = plt)\n",
    "    plt.show()"
   ]
  },
  {
   "cell_type": "markdown",
   "metadata": {
    "colab": {
     "base_uri": "https://localhost:8080/",
     "height": 73,
     "resources": {
      "http://localhost:8080/nbextensions/google.colab/files.js": {
       "data": "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",
       "headers": [
        [
         "content-type",
         "application/javascript"
        ]
       ],
       "ok": true,
       "status": 200,
       "status_text": "OK"
      }
     }
    },
    "id": "8eLj6K4nyvuI",
    "outputId": "bb97224a-eadd-46f2-c43d-783767df2cbf"
   },
   "source": [
    "#from google.colab import files \n",
    "  \n",
    "  \n",
    "#uploaded = files.upload()"
   ]
  },
  {
   "cell_type": "code",
   "execution_count": 2,
   "metadata": {
    "colab": {
     "base_uri": "https://localhost:8080/",
     "height": 424
    },
    "id": "jvIxXltJyqfB",
    "outputId": "a1e54798-b56a-40e2-fa4c-52cdd30d7c9c"
   },
   "outputs": [
    {
     "data": {
      "text/html": [
       "<div>\n",
       "<style scoped>\n",
       "    .dataframe tbody tr th:only-of-type {\n",
       "        vertical-align: middle;\n",
       "    }\n",
       "\n",
       "    .dataframe tbody tr th {\n",
       "        vertical-align: top;\n",
       "    }\n",
       "\n",
       "    .dataframe thead th {\n",
       "        text-align: right;\n",
       "    }\n",
       "</style>\n",
       "<table border=\"1\" class=\"dataframe\">\n",
       "  <thead>\n",
       "    <tr style=\"text-align: right;\">\n",
       "      <th></th>\n",
       "      <th>carat</th>\n",
       "      <th>cut</th>\n",
       "      <th>color</th>\n",
       "      <th>clarity</th>\n",
       "      <th>depth</th>\n",
       "      <th>table</th>\n",
       "      <th>price</th>\n",
       "      <th>x</th>\n",
       "      <th>y</th>\n",
       "      <th>z</th>\n",
       "      <th>unknownCol</th>\n",
       "    </tr>\n",
       "  </thead>\n",
       "  <tbody>\n",
       "    <tr>\n",
       "      <th>0</th>\n",
       "      <td>0.32</td>\n",
       "      <td>Premium</td>\n",
       "      <td>J</td>\n",
       "      <td>VS2</td>\n",
       "      <td>61.9</td>\n",
       "      <td>58.0</td>\n",
       "      <td>504</td>\n",
       "      <td>4.38</td>\n",
       "      <td>4.35</td>\n",
       "      <td>2.70</td>\n",
       "      <td>5.100000</td>\n",
       "    </tr>\n",
       "    <tr>\n",
       "      <th>1</th>\n",
       "      <td>1.50</td>\n",
       "      <td>Good</td>\n",
       "      <td>F</td>\n",
       "      <td>SI2</td>\n",
       "      <td>62.9</td>\n",
       "      <td>59.0</td>\n",
       "      <td>7727</td>\n",
       "      <td>7.19</td>\n",
       "      <td>7.32</td>\n",
       "      <td>4.56</td>\n",
       "      <td>4.900000</td>\n",
       "    </tr>\n",
       "    <tr>\n",
       "      <th>2</th>\n",
       "      <td>0.38</td>\n",
       "      <td>Ideal</td>\n",
       "      <td>H</td>\n",
       "      <td>VS1</td>\n",
       "      <td>61.7</td>\n",
       "      <td>55.0</td>\n",
       "      <td>955</td>\n",
       "      <td>4.65</td>\n",
       "      <td>4.70</td>\n",
       "      <td>2.89</td>\n",
       "      <td>4.700000</td>\n",
       "    </tr>\n",
       "    <tr>\n",
       "      <th>3</th>\n",
       "      <td>0.53</td>\n",
       "      <td>Ideal</td>\n",
       "      <td>F</td>\n",
       "      <td>VVS1</td>\n",
       "      <td>62.1</td>\n",
       "      <td>53.2</td>\n",
       "      <td>2273</td>\n",
       "      <td>5.17</td>\n",
       "      <td>5.21</td>\n",
       "      <td>3.22</td>\n",
       "      <td>4.600000</td>\n",
       "    </tr>\n",
       "    <tr>\n",
       "      <th>4</th>\n",
       "      <td>0.55</td>\n",
       "      <td>Ideal</td>\n",
       "      <td>D</td>\n",
       "      <td>VS2</td>\n",
       "      <td>60.6</td>\n",
       "      <td>56.0</td>\n",
       "      <td>2224</td>\n",
       "      <td>5.30</td>\n",
       "      <td>5.36</td>\n",
       "      <td>3.23</td>\n",
       "      <td>5.000000</td>\n",
       "    </tr>\n",
       "    <tr>\n",
       "      <th>...</th>\n",
       "      <td>...</td>\n",
       "      <td>...</td>\n",
       "      <td>...</td>\n",
       "      <td>...</td>\n",
       "      <td>...</td>\n",
       "      <td>...</td>\n",
       "      <td>...</td>\n",
       "      <td>...</td>\n",
       "      <td>...</td>\n",
       "      <td>...</td>\n",
       "      <td>...</td>\n",
       "    </tr>\n",
       "    <tr>\n",
       "      <th>195</th>\n",
       "      <td>1.12</td>\n",
       "      <td>Premium</td>\n",
       "      <td>G</td>\n",
       "      <td>SI1</td>\n",
       "      <td>60.1</td>\n",
       "      <td>58.0</td>\n",
       "      <td>5233</td>\n",
       "      <td>6.78</td>\n",
       "      <td>6.83</td>\n",
       "      <td>4.09</td>\n",
       "      <td>6.763648</td>\n",
       "    </tr>\n",
       "    <tr>\n",
       "      <th>196</th>\n",
       "      <td>0.37</td>\n",
       "      <td>Ideal</td>\n",
       "      <td>D</td>\n",
       "      <td>VVS2</td>\n",
       "      <td>61.6</td>\n",
       "      <td>54.0</td>\n",
       "      <td>997</td>\n",
       "      <td>4.61</td>\n",
       "      <td>4.64</td>\n",
       "      <td>2.85</td>\n",
       "      <td>6.381457</td>\n",
       "    </tr>\n",
       "    <tr>\n",
       "      <th>197</th>\n",
       "      <td>0.30</td>\n",
       "      <td>Very Good</td>\n",
       "      <td>D</td>\n",
       "      <td>VVS2</td>\n",
       "      <td>60.6</td>\n",
       "      <td>58.0</td>\n",
       "      <td>2366</td>\n",
       "      <td>4.33</td>\n",
       "      <td>4.35</td>\n",
       "      <td>2.63</td>\n",
       "      <td>5.112152</td>\n",
       "    </tr>\n",
       "    <tr>\n",
       "      <th>198</th>\n",
       "      <td>2.18</td>\n",
       "      <td>Premium</td>\n",
       "      <td>J</td>\n",
       "      <td>VS2</td>\n",
       "      <td>60.1</td>\n",
       "      <td>58.0</td>\n",
       "      <td>15465</td>\n",
       "      <td>8.46</td>\n",
       "      <td>8.41</td>\n",
       "      <td>5.07</td>\n",
       "      <td>6.108909</td>\n",
       "    </tr>\n",
       "    <tr>\n",
       "      <th>199</th>\n",
       "      <td>0.32</td>\n",
       "      <td>Premium</td>\n",
       "      <td>I</td>\n",
       "      <td>VS2</td>\n",
       "      <td>62.2</td>\n",
       "      <td>59.0</td>\n",
       "      <td>449</td>\n",
       "      <td>4.35</td>\n",
       "      <td>4.37</td>\n",
       "      <td>2.71</td>\n",
       "      <td>5.415009</td>\n",
       "    </tr>\n",
       "  </tbody>\n",
       "</table>\n",
       "<p>200 rows × 11 columns</p>\n",
       "</div>"
      ],
      "text/plain": [
       "     carat        cut color clarity  depth  table  price     x     y     z  \\\n",
       "0     0.32    Premium     J     VS2   61.9   58.0    504  4.38  4.35  2.70   \n",
       "1     1.50       Good     F     SI2   62.9   59.0   7727  7.19  7.32  4.56   \n",
       "2     0.38      Ideal     H     VS1   61.7   55.0    955  4.65  4.70  2.89   \n",
       "3     0.53      Ideal     F    VVS1   62.1   53.2   2273  5.17  5.21  3.22   \n",
       "4     0.55      Ideal     D     VS2   60.6   56.0   2224  5.30  5.36  3.23   \n",
       "..     ...        ...   ...     ...    ...    ...    ...   ...   ...   ...   \n",
       "195   1.12    Premium     G     SI1   60.1   58.0   5233  6.78  6.83  4.09   \n",
       "196   0.37      Ideal     D    VVS2   61.6   54.0    997  4.61  4.64  2.85   \n",
       "197   0.30  Very Good     D    VVS2   60.6   58.0   2366  4.33  4.35  2.63   \n",
       "198   2.18    Premium     J     VS2   60.1   58.0  15465  8.46  8.41  5.07   \n",
       "199   0.32    Premium     I     VS2   62.2   59.0    449  4.35  4.37  2.71   \n",
       "\n",
       "     unknownCol  \n",
       "0      5.100000  \n",
       "1      4.900000  \n",
       "2      4.700000  \n",
       "3      4.600000  \n",
       "4      5.000000  \n",
       "..          ...  \n",
       "195    6.763648  \n",
       "196    6.381457  \n",
       "197    5.112152  \n",
       "198    6.108909  \n",
       "199    5.415009  \n",
       "\n",
       "[200 rows x 11 columns]"
      ]
     },
     "execution_count": 2,
     "metadata": {},
     "output_type": "execute_result"
    }
   ],
   "source": [
    "df = pd.read_csv(r'datasetTarea2.csv')\n",
    "df = pd.DataFrame(data=df)\n",
    "df"
   ]
  },
  {
   "cell_type": "code",
   "execution_count": 3,
   "metadata": {
    "id": "65swznhByqfD"
   },
   "outputs": [],
   "source": [
    "# Análisis de los histogramas de las diferentes variables y propuestas de distribuciones\n",
    "\n",
    "n_bins = 9"
   ]
  },
  {
   "cell_type": "markdown",
   "metadata": {
    "id": "PHi1C_09yqfD"
   },
   "source": [
    "## Análisis de la variable 'carat'\n",
    "\n",
    "### Comparación con la distribución:\n",
    "#### Gamma\n",
    "La distribución Gamma es adecuada para modelar el comportamiento de variables aleatorias continuas con asimétrica positiva, es decir, variables que presentan una mayor probabilidad de ocurrencia de eventos a la izquierda de la media que a la derecha.\n",
    "\n",
    "Parpametros:\n",
    "$\\alpha$ (shape) es un *parámetro de forma* y $\\beta$ (scale) es un *parámetro de escala*."
   ]
  },
  {
   "cell_type": "code",
   "execution_count": 4,
   "metadata": {
    "colab": {
     "base_uri": "https://localhost:8080/",
     "height": 281
    },
    "id": "HPs-fj9HyqfE",
    "outputId": "03522388-fa86-42f8-b06b-5a6d43bdac87"
   },
   "outputs": [
    {
     "data": {
      "image/png": "[encoded data removed]",
      "text/plain": [
       "<Figure size 432x288 with 1 Axes>"
      ]
     },
     "metadata": {
      "needs_background": "light"
     },
     "output_type": "display_data"
    }
   ],
   "source": [
    "# Histograma de los datos de la columna 'carat'\n",
    "\n",
    "carat = df['carat']\n",
    "\n",
    "# Comparación con la distribución Gamma\n",
    "\n",
    "shape = 3\n",
    "scale = 0.2\n",
    "gamma = stats.gamma(a=shape,scale=scale)\n",
    "x = np.linspace(gamma.ppf(0.01),\n",
    "                gamma.ppf(0.99), 100)\n",
    "fp = gamma.pdf(x) # Función de Probabilidad\n",
    "\n",
    "plotHistogram(carat, n_bins, 'Histograma variable Carat vs dist. Gamma', x, fp)"
   ]
  },
  {
   "cell_type": "markdown",
   "metadata": {
    "id": "xU6ANmfJyqfF"
   },
   "source": [
    "### Comparación con la distribución:\n",
    "#### Exponencial\n",
    "La distribución exponencial es utilizada para determinar la probabilidad de que en cierto tiempo suceda un determinado evento.\n",
    "\n",
    "Parámetro:\n",
    "\n",
    "Lambda:  $\\lambda$ es el inverso de la duración esperada entre eventos y representa un parámetro de intensidad del proceso."
   ]
  },
  {
   "cell_type": "code",
   "execution_count": 5,
   "metadata": {
    "colab": {
     "base_uri": "https://localhost:8080/",
     "height": 281
    },
    "id": "wVmljMYmyqfF",
    "outputId": "0a2caeef-3891-48b3-9e3e-b012589b72f7"
   },
   "outputs": [
    {
     "data": {
      "image/png": "[encoded data removed]",
      "text/plain": [
       "<Figure size 432x288 with 1 Axes>"
      ]
     },
     "metadata": {
      "needs_background": "light"
     },
     "output_type": "display_data"
    }
   ],
   "source": [
    "# Comparación con la distribución Exponencial\n",
    "\n",
    "#distribución exponencial, estimando lambda en función del promedio\n",
    "mean = pd.Series.mean(carat)\n",
    "n = len(carat)\n",
    "lambdaValue = mean #1.4 #0.78845\n",
    "\n",
    "exponencial = stats.expon(scale=lambdaValue)\n",
    "x = np.linspace(exponencial.ppf(0.01),\n",
    "                exponencial.ppf(0.99), n)\n",
    "fp = exponencial.pdf(x) # Función de Probabilidad\n",
    "\n",
    "plotHistogram(carat, n_bins, 'Histograma variable Carat vs dist. Exponencial', x, fp)"
   ]
  },
  {
   "cell_type": "markdown",
   "metadata": {
    "id": "TMcXZnhxyqfG"
   },
   "source": [
    "### Conclusión\n",
    "\n",
    "Se puede notar que el histograma tiene una tendencia decreciente.  Las distribuciones que más se parecen son: exponencial y \n",
    "gamma, sin embargo la que mejor lo representa es la distribución exponencial. "
   ]
  },
  {
   "cell_type": "markdown",
   "metadata": {
    "id": "2JsNRExNyqfH"
   },
   "source": [
    "# Pregunta 2\n",
    "\n",
    "Seleccione 3 columnas adicionales (también cuantitativas) y realize el mismo proceso del punto 2 (45 puntos)\n",
    " - Histograma (2 puntos)\n",
    " - Parámetros y gráfica (10 puntos)\n",
    " - Justificación (3 puntos)"
   ]
  },
  {
   "cell_type": "markdown",
   "metadata": {
    "id": "iQi4LSh6yqfI"
   },
   "source": [
    "## Análisis de la variable 'depth'\n",
    "\n",
    "### Comparación con la distribución:\n",
    "#### Normal\n",
    "\n",
    "La distribución normal es una distribución continua que está determinada por la media μ y la desviación estándar σ. La media es el centro de la curva con forma de campana y la desviación estándar corresponde a la extensión de la distribución.\n",
    "\n",
    "Parámetro:\n",
    "\n",
    "Media μ y la desviación estándar σ"
   ]
  },
  {
   "cell_type": "code",
   "execution_count": 6,
   "metadata": {
    "colab": {
     "base_uri": "https://localhost:8080/",
     "height": 281
    },
    "id": "OJSepCaxyqfI",
    "outputId": "d339066e-a878-4611-aa18-d9b33e23cdd2"
   },
   "outputs": [
    {
     "data": {
      "image/png": "[encoded data removed]",
      "text/plain": [
       "<Figure size 432x288 with 1 Axes>"
      ]
     },
     "metadata": {
      "needs_background": "light"
     },
     "output_type": "display_data"
    }
   ],
   "source": [
    "# Histograma de los datos de depth\n",
    "\n",
    "# Comparación con la distribución normal\n",
    "\n",
    "# Histograma de los datos de depth\n",
    "\n",
    "depth = df['depth']\n",
    "\n",
    "my_mean = pd.Series.mean(depth)\n",
    "standev = pd.Series.std(depth)\n",
    "min = np.min(depth)\n",
    "max = np.max(depth)\n",
    "n = len(depth)\n",
    "x = np.linspace(min, max, n)\n",
    "\n",
    "plotHistogram(depth, n_bins, 'Histograma variable Depth vs Distribución Normal', x, norm.pdf(x, my_mean, standev))"
   ]
  },
  {
   "cell_type": "markdown",
   "metadata": {
    "id": "zRvXl7RHyqfJ"
   },
   "source": [
    "### Conclusión\n",
    "\n",
    "Se puede notar que el histograma tiene una distribución normal porque una campana de Gauss.  Otra distribución que podría modelar dicha variable es t-student, sin embargo la distribución normal está muy bien."
   ]
  },
  {
   "cell_type": "markdown",
   "metadata": {
    "id": "rWA5V5BXyqfJ"
   },
   "source": [
    "## Análisis de la variable 'table'\n",
    "\n",
    "### Comparación con la distribución:\n",
    "#### Gamma\n",
    "\n",
    "La distribución Gamma es adecuada para modelar el comportamiento de variables aleatorias continuas con asimétrica positiva, es decir, variables que presentan una mayor probabilidad de ocurrencia de eventos a la izquierda de la media que a la derecha.\n",
    "\n",
    "Parpametros:\n",
    "$\\alpha$ (shape) es un *parámetro de forma* y $\\beta$ (scale) es un *parámetro de escala*."
   ]
  },
  {
   "cell_type": "code",
   "execution_count": 7,
   "metadata": {
    "colab": {
     "base_uri": "https://localhost:8080/",
     "height": 281
    },
    "id": "DeHCyOpUyqfJ",
    "outputId": "4f84492c-1d83-480a-945f-32b05d9908df"
   },
   "outputs": [
    {
     "data": {
      "image/png": "[encoded data removed]",
      "text/plain": [
       "<Figure size 432x288 with 1 Axes>"
      ]
     },
     "metadata": {
      "needs_background": "light"
     },
     "output_type": "display_data"
    }
   ],
   "source": [
    "# Histograma de los datos de la variable table\n",
    "\n",
    "table = df['table']\n",
    "\n",
    "# Comparación con la distribución Gamma\n",
    "\n",
    "shape = 635\n",
    "scale = 0.09\n",
    "\n",
    "gamma = stats.gamma(a=shape,scale=scale)\n",
    "x = np.linspace(gamma.ppf(0.01),\n",
    "                gamma.ppf(0.99), 100)\n",
    "fp = gamma.pdf(x) # Función de Probabilidad\n",
    "\n",
    "plotHistogram(table, n_bins, 'Histograma variable Table vs dist. Gamma', x, fp)"
   ]
  },
  {
   "cell_type": "markdown",
   "metadata": {
    "id": "RcILiMU3yqfK"
   },
   "source": [
    "### Comparación con la distribución:\n",
    "#### Weibull\n",
    "\n",
    "La distribución Weibull es ampliamente utilizada en la práctica de la ingeniería para modelar la vida útil de un sistema complejo conformado por varias partes que falla cuando la primera de ellas se daña. Weibull ha sido aplicada a la resolución de problemas en las áreas de la altura de mareas, eficacia de tratamientos médicos, reclamos de seguros, mantenimiento de alumbrado público, explosión de rocas y planificación de repuestos. \n",
    "\n",
    "Parámetros:\n",
    "\n",
    "Esta distribución incluye dos parámetros principales: Scale (s) > 0 y Shape ($\\beta$); en algunos casos se incluye un tercer parámetro denominado Location (L). En nuestro análisis utilizaremos la versión con los dos primeros parámetros: Scale y Shape."
   ]
  },
  {
   "cell_type": "code",
   "execution_count": 8,
   "metadata": {
    "id": "Ol1txXObyqfK"
   },
   "outputs": [
    {
     "data": {
      "image/png": "[encoded data removed]",
      "text/plain": [
       "<Figure size 432x288 with 1 Axes>"
      ]
     },
     "metadata": {
      "needs_background": "light"
     },
     "output_type": "display_data"
    }
   ],
   "source": [
    "# Variable Table\n",
    "# Comparación con la distribución Weibull\n",
    "\n",
    "#distribución exponencial, estimando lambda en función del promedio\n",
    "mean = pd.Series.mean(table)\n",
    "min = np.min(table)\n",
    "max = np.max(table)\n",
    "lambdaValue = 500\n",
    "shape = 23\n",
    "scale = 58\n",
    "\n",
    "x = np.linspace(min, max, 200)    \n",
    "p = weibull_min.pdf(x, shape, scale=scale)\n",
    "\n",
    "plotHistogram(table, n_bins, 'Histograma variable Table vs dist. Weibull', x, p)"
   ]
  },
  {
   "cell_type": "markdown",
   "metadata": {
    "id": "_bvBB3HlyqfL"
   },
   "source": [
    "### Conclusión\n",
    "\n",
    "Se comparó con la distribución Gamma y Weibull.  Escogemos la distribución Gamma, porque se puede observar que el histograma tiene una forma de campana no centrada, teniendo un mayor ocurrencia en el lado izquierdo que el derecho."
   ]
  },
  {
   "cell_type": "markdown",
   "metadata": {
    "id": "mQ0Q2XhmyqfL"
   },
   "source": [
    "## Análisis de la variable 'price'\n",
    "\n",
    "### Comparación con la distribución:\n",
    "#### Exponencial\n",
    "La distribución exponencial es utilizada para determinar la probabilidad de que en cierto tiempo suceda un determinado evento.\n",
    "\n",
    "Parámetro:\n",
    "\n",
    "Lambda:  $\\lambda$ es el inverso de la duración esperada entre eventos y representa un parámetro de intensidad del proceso."
   ]
  },
  {
   "cell_type": "code",
   "execution_count": 9,
   "metadata": {
    "colab": {
     "base_uri": "https://localhost:8080/",
     "height": 281
    },
    "id": "0COzBGiwyqfL",
    "outputId": "24c9fea9-4740-42a6-8f20-c13661f820d6"
   },
   "outputs": [
    {
     "data": {
      "image/png": "[encoded data removed]",
      "text/plain": [
       "<Figure size 432x288 with 1 Axes>"
      ]
     },
     "metadata": {
      "needs_background": "light"
     },
     "output_type": "display_data"
    }
   ],
   "source": [
    "# Histograma de los datos de price\n",
    "\n",
    "prices = df['price']\n",
    "\n",
    "# Comparación con la distribución Exponencial\n",
    "\n",
    "#distribución exponencial, estimando lambda en función del promedio\n",
    "mean = pd.Series.mean(prices)\n",
    "lambdaValue = 3800\n",
    "\n",
    "exponencial = stats.expon(scale=lambdaValue)\n",
    "x= np.linspace(exponencial.ppf(0.01),\n",
    "                exponencial.ppf(0.99), 100)\n",
    "fp = exponencial.pdf(x) # Función de Probabilidad\n",
    "\n",
    "plotHistogram(prices, n_bins, 'Histograma variable Prices vs dist. Exponencial', x, fp)"
   ]
  },
  {
   "cell_type": "markdown",
   "metadata": {
    "id": "gLz1KMRlyqfM"
   },
   "source": [
    "### Comparación con la distribución:\n",
    "#### Weibull\n",
    "La distribución Weibull es ampliamente utilizada en la práctica de la ingeniería para modelar la vida útil de un sistema complejo conformado por varias partes que falla cuando la primera de ellas se daña. Weibull ha sido aplicada a la resolución de problemas en las áreas de la altura de mareas, eficacia de tratamientos médicos, reclamos de seguros, mantenimiento de alumbrado público, explosión de rocas y planificación de repuestos. \n",
    "\n",
    "Parámetros:\n",
    "\n",
    "Esta distribución incluye dos parámetros principales: Scale (s) > 0 y Shape ($\\beta$); en algunos casos se incluye un tercer parámetro denominado Location (L). En nuestro análisis utilizaremos la versión con los dos primeros parámetros."
   ]
  },
  {
   "cell_type": "code",
   "execution_count": 10,
   "metadata": {
    "colab": {
     "base_uri": "https://localhost:8080/",
     "height": 281
    },
    "id": "PdSERzouyqfM",
    "outputId": "ae0bade9-585c-47f7-ceed-e6d2b53b0c37"
   },
   "outputs": [
    {
     "data": {
      "image/png": "[encoded data removed]",
      "text/plain": [
       "<Figure size 432x288 with 1 Axes>"
      ]
     },
     "metadata": {
      "needs_background": "light"
     },
     "output_type": "display_data"
    }
   ],
   "source": [
    "# Comparación con la distribución Exponencial\n",
    "\n",
    "#distribución exponencial, estimando lambda en función del promedio\n",
    "mean = pd.Series.mean(prices)\n",
    "min = np.min(prices)\n",
    "max = np.max(prices)\n",
    "lambdaValue = 500\n",
    "shape = 1.05208\n",
    "scale = 3836.41566\n",
    "\n",
    "x = np.linspace(min, max, 200)    \n",
    "p = weibull_min.pdf(x, shape, scale=scale)\n",
    "\n",
    "plotHistogram(prices, n_bins, 'Histograma variable Price vs dist. Weibull', x, p)"
   ]
  },
  {
   "cell_type": "markdown",
   "metadata": {
    "id": "JYxBePuOyqfM"
   },
   "source": [
    "### Conclusión\n",
    "\n",
    "Se comparó con la distribución Exponencial y Weibull.  Escogemos la distribución exponencial, porque se puede observar que el histograma tiene una tendencia decreciente."
   ]
  },
  {
   "cell_type": "markdown",
   "metadata": {
    "id": "CctTpfVUyqfN"
   },
   "source": [
    "# Pregunta 3\n",
    "\n",
    "Para cada columna aplicar una prueba KS  con un $\\alpha=0.05$ para determinar si la muestra en efecto sigue la misma distribución que los estudiantes plantean. Si bien es cierto en clase se abordó la prueba KS para pruebas de normalidad, estas también se pueden utilizar para cualquier otro tipo de distribución\n",
    " - 4 columnas x 10 puntos cada una (40 puntos)\n",
    " - Debe mostrarse suficiente detalle gráfico y aritmético en su respuesta"
   ]
  },
  {
   "cell_type": "code",
   "execution_count": 32,
   "metadata": {},
   "outputs": [
    {
     "name": "stdout",
     "output_type": "stream",
     "text": [
      "\u001b[1mAlpha: \u001b[0m :  0.05\n"
     ]
    }
   ],
   "source": [
    "valorCritico = ksone.ppf(0.975,1000)\n",
    "imprimirVariable('Alpha: ', 0.05)"
   ]
  },
  {
   "cell_type": "markdown",
   "metadata": {},
   "source": [
    "## Prueba KS para la variable 'carat'\n",
    "\n",
    "### Distribución Exponencial\n",
    "\n",
    "La hipótesis para esta prueba son las siguientes:\n",
    "\n",
    "- Hipótesis nula ($H_0$): los datos provienen de la distribución especificada. ($pValue$ >= 0.05)\n",
    "\n",
    "- Hipótesis alternativa ($H_1$): al menos un valor no concuerda con la distribución especificada. ($pValue$ < 0.05)\n"
   ]
  },
  {
   "cell_type": "code",
   "execution_count": 31,
   "metadata": {},
   "outputs": [
    {
     "name": "stdout",
     "output_type": "stream",
     "text": [
      "\u001b[1mPValue: \u001b[0m :  0.0406347721000076\n"
     ]
    },
    {
     "data": {
      "image/png": "[encoded data removed]",
      "text/plain": [
       "<Figure size 432x288 with 1 Axes>"
      ]
     },
     "metadata": {
      "needs_background": "light"
     },
     "output_type": "display_data"
    }
   ],
   "source": [
    "parametrosCarat = stats.expon.fit(carat)\n",
    "_, pValueCarat = stats.kstest(carat, 'expon', args=(parametrosCarat), alternative = \"less\")\n",
    "\n",
    "imprimirVariable('PValue: ', pValueCarat)\n",
    "\n",
    "graficarTestDistribucion(carat, \"expon\", parametrosCarat)"
   ]
  },
  {
   "cell_type": "markdown",
   "metadata": {},
   "source": [
    "El $pValue$ obtenido es  $0.0406 < 0.0500$, por lo que la hipótesis nula $H_0$ que plantea que carat proviene de una distribución exponencial, se  rechaza."
   ]
  },
  {
   "cell_type": "markdown",
   "metadata": {},
   "source": [
    "### Distribución Gamma\n",
    "\n",
    "La hipótesis para esta prueba son las siguientes:\n",
    "\n",
    "- Hipótesis nula ($H_0$): los datos provienen de la distribución especificada. ($pValue$ >= 0.05)\n",
    "\n",
    "- Hipótesis alternativa ($H_1$): al menos un valor no concuerda con la distribución especificada. ($pValue$ < 0.05)\n"
   ]
  },
  {
   "cell_type": "code",
   "execution_count": 34,
   "metadata": {},
   "outputs": [
    {
     "name": "stdout",
     "output_type": "stream",
     "text": [
      "\u001b[1mPValue: \u001b[0m :  0.16640766194517928\n"
     ]
    },
    {
     "data": {
      "image/png": "[encoded data removed]",
      "text/plain": [
       "<Figure size 432x288 with 1 Axes>"
      ]
     },
     "metadata": {
      "needs_background": "light"
     },
     "output_type": "display_data"
    }
   ],
   "source": [
    "parametrosCarat = stats.gamma.fit(carat)\n",
    "dCarat, pValueCarat = stats.kstest(carat, 'gamma', args=(parametrosCarat), alternative = \"less\")\n",
    "\n",
    "imprimirVariable('PValue: ', pValueCarat)\n",
    "\n",
    "graficarTestDistribucion(carat, \"gamma\", parametrosCarat)"
   ]
  },
  {
   "cell_type": "markdown",
   "metadata": {},
   "source": [
    "El $pvalue$ obtenido es  $0.1664 > 0.0500$, por lo que la hipótesis nula $H_0$ que plantea que carat proviene de una distribución gamma, se confirma como cierta, porque no se tendría la suficiente evidencia como para demostrar lo contrario."
   ]
  },
  {
   "cell_type": "markdown",
   "metadata": {
    "id": "cJ10lrMiyqfO"
   },
   "source": [
    "## Prueba KS para la variable 'depth'\n",
    "\n",
    "### Distribución Normal\n",
    "\n",
    "La hipótesis para esta prueba son las siguientes:\n",
    "\n",
    "- Hipótesis nula ($H_0$): los datos provienen de la distribución especificada. ($pValue$ >= 0.05)\n",
    "\n",
    "- Hipótesis alternativa ($H_1$): al menos un valor no concuerda con la distribución especificada. ($pValue$ < 0.05)"
   ]
  },
  {
   "cell_type": "code",
   "execution_count": 38,
   "metadata": {},
   "outputs": [
    {
     "name": "stdout",
     "output_type": "stream",
     "text": [
      "\u001b[1mPValue: \u001b[0m :  0.0862204635769729\n"
     ]
    },
    {
     "data": {
      "image/png": "[encoded data removed]",
      "text/plain": [
       "<Figure size 432x288 with 1 Axes>"
      ]
     },
     "metadata": {
      "needs_background": "light"
     },
     "output_type": "display_data"
    }
   ],
   "source": [
    "parametrosDepth = stats.norm.fit(depth)\n",
    "_, pValueDepth = stats.kstest(depth, 'norm', args=(parametrosDepth), alternative = \"less\")\n",
    "\n",
    "imprimirVariable('PValue: ', pValueDepth)\n",
    "\n",
    "graficarTestDistribucion(depth, \"norm\", parametrosDepth)"
   ]
  },
  {
   "cell_type": "markdown",
   "metadata": {},
   "source": [
    "El $pvalue$ obtenido es  $0.0862 > 0.0500$, por lo que la hipótesis nula $H_0$ que plantea que depth proviene de una distribución normal, se confirma como cierta, porque no se tendría la suficiente evidencia como para demostrar lo contrario."
   ]
  },
  {
   "cell_type": "markdown",
   "metadata": {},
   "source": [
    "### Distribución T-Student\n",
    "\n",
    "La hipótesis para esta prueba son las siguientes:\n",
    "\n",
    "- Hipótesis nula ($H_0$): los datos provienen de la distribución especificada. ($pValue$ >= 0.05)\n",
    "\n",
    "- Hipótesis alternativa ($H_1$): al menos un valor no concuerda con la distribución especificada. ($pValue$ < 0.05)"
   ]
  },
  {
   "cell_type": "code",
   "execution_count": 40,
   "metadata": {},
   "outputs": [
    {
     "name": "stdout",
     "output_type": "stream",
     "text": [
      "\u001b[1mPValue: \u001b[0m :  0.22262537036703167\n"
     ]
    },
    {
     "data": {
      "image/png": "[encoded data removed]",
      "text/plain": [
       "<Figure size 432x288 with 1 Axes>"
      ]
     },
     "metadata": {
      "needs_background": "light"
     },
     "output_type": "display_data"
    }
   ],
   "source": [
    "parametrosDepth = stats.t.fit(depth)\n",
    "_, pValueDepth = stats.kstest(depth, 't', args=(parametrosDepth), alternative = \"less\")\n",
    "\n",
    "imprimirVariable('PValue: ', pValueDepth)\n",
    "\n",
    "graficarTestDistribucion(depth, \"t\", parametrosDepth)"
   ]
  },
  {
   "cell_type": "markdown",
   "metadata": {},
   "source": [
    "El $pvalue$ obtenido es  $0.2226 > 0.0500$, por lo que la hipótesis nula $H_0$ que plantea que depth proviene de una distribución t-student, se confirma como cierta, porque no se tendría la suficiente evidencia como para demostrar lo contrario.  Comparando con el resultado de kstest de la distribución normal para depth, se puede concluir que la distribución T-Student es más similar, ya que el pvalue es más alto."
   ]
  },
  {
   "cell_type": "markdown",
   "metadata": {
    "id": "6KPkEc0oyqfP"
   },
   "source": [
    "## Prueba KS para la variable 'table'\n",
    "\n",
    "### Distribución Gamma"
   ]
  },
  {
   "cell_type": "code",
   "execution_count": null,
   "metadata": {
    "colab": {
     "base_uri": "https://localhost:8080/",
     "height": 287
    },
    "id": "Zkt9LM1nyqfQ",
    "outputId": "adb7664d-80ed-4ef2-b872-a30e71939393"
   },
   "outputs": [],
   "source": []
  },
  {
   "cell_type": "markdown",
   "metadata": {
    "id": "MrYT5lEcyqfQ"
   },
   "source": [
    "El valor $D$ obtenido es probado con una confianza de $1-\\alpha = 0.95$, que corresponde a un valor de 0.0427 de la tabla de la distribución Kolgomorov (tabla KS), podemos verificar que $D < D_{n,\\alpha}$ que, para este caso, vemos que $0.8950 < 0.0427$, por que la hipótesis nula $H_0$ que plantea que el histograma  $\\vec{h}$ ha sido generado de una distribución gamma, se  asume como cierta (no se tendría la suficiente evidencia como para demostrar lo contrario).  Adicionalmente en la grafica de probabilidades de distribución normal se nota que los datos (puntos azules) se apega mucho a la linea roja (distribución)."
   ]
  },
  {
   "cell_type": "markdown",
   "metadata": {
    "id": "KVnIP5SdyqfQ"
   },
   "source": [
    "## Prueba KS para la variable 'price'\n",
    "\n",
    "### Distribución Exponencial"
   ]
  },
  {
   "cell_type": "code",
   "execution_count": null,
   "metadata": {
    "id": "Q-5tpVIAyqfR"
   },
   "outputs": [],
   "source": []
  },
  {
   "cell_type": "markdown",
   "metadata": {
    "id": "KRS3rtn3yqfR"
   },
   "source": [
    "El valor $D$ obtenido es probado con una confianza de $1-\\alpha = 0.95$, que corresponde a un valor de 0.0427 de la tabla de la distribución Kolgomorov (tabla KS), podemos verificar que $D < D_{n,\\alpha}$ que, para este caso, vemos que $0.5100 < 0.0427$, por que la hipótesis nula $H_0$ que plantea que el histograma  $\\vec{h}$ ha sido generado de una distribución exponencial, se  asume como cierta (no se tendría la suficiente evidencia como para demostrar lo contrario).  Adicionalmente en la grafica de probabilidades de distribución exponencial se nota que los datos (puntos azules) se apega mucho a la linea roja (distribución)."
   ]
  },
  {
   "cell_type": "code",
   "execution_count": null,
   "metadata": {
    "id": "yQgyGJG6yqfR"
   },
   "outputs": [],
   "source": []
  }
 ],
 "metadata": {
  "colab": {
   "collapsed_sections": [],
   "name": "Tarea2_EstadisticaParaCienciaDeLosDatos - V 13-Feb-2022 6 45.ipynb",
   "provenance": []
  },
  "kernelspec": {
   "display_name": "Python 3",
   "language": "python",
   "name": "python3"
  },
  "language_info": {
   "codemirror_mode": {
    "name": "ipython",
    "version": 3
   },
   "file_extension": ".py",
   "mimetype": "text/x-python",
   "name": "python",
   "nbconvert_exporter": "python",
   "pygments_lexer": "ipython3",
   "version": "3.9.0"
  }
 },
 "nbformat": 4,
 "nbformat_minor": 1
}
